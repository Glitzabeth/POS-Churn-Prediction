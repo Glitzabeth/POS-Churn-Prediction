{
 "cells": [
  {
   "cell_type": "markdown",
   "metadata": {
    "_uuid": "7e6a209957355620e23ad08b633dca20f7929229"
   },
   "source": [
    "# **Predicting POS Handler Churn**\n",
    "\n",
    "\n",
    "In This study we aim to predict Churn from the data set of POS Clients in a  Bank, we aim to accomplish the following:\n",
    "\n",
    "* Classify if a customer is going to churn or not\n",
    "* Determine the business sector of customer with high churning probability\n",
    "* To determine if customers who maintain high balance are likely to churn\n",
    "* To find out whether Clients benefitting from the bank services are likely to churn\n",
    "\n"
   ]
  },
  {
   "cell_type": "markdown",
   "metadata": {
    "_uuid": "93e40e841bd1a1c7e0b65013e7462eec69c7a103"
   },
   "source": [
    "**EDA (Exploratory Data Analysis)**"
   ]
  },
  {
   "cell_type": "code",
   "execution_count": null,
   "metadata": {},
   "outputs": [],
   "source": [
    "#pip install seaborn"
   ]
  },
  {
   "cell_type": "code",
   "execution_count": null,
   "metadata": {},
   "outputs": [],
   "source": [
    "#pip install chardet"
   ]
  },
  {
   "cell_type": "code",
   "execution_count": 1,
   "metadata": {
    "_uuid": "64ba4d39f1302819cd6e49f115d757be7eec3f66"
   },
   "outputs": [
    {
     "data": {
      "text/html": [
       "        <script type=\"text/javascript\">\n",
       "        window.PlotlyConfig = {MathJaxConfig: 'local'};\n",
       "        if (window.MathJax) {MathJax.Hub.Config({SVG: {font: \"STIX-Web\"}});}\n",
       "        if (typeof require !== 'undefined') {\n",
       "        require.undef(\"plotly\");\n",
       "        requirejs.config({\n",
       "            paths: {\n",
       "                'plotly': ['https://cdn.plot.ly/plotly-latest.min']\n",
       "            }\n",
       "        });\n",
       "        require(['plotly'], function(Plotly) {\n",
       "            window._Plotly = Plotly;\n",
       "        });\n",
       "        }\n",
       "        </script>\n",
       "        "
      ]
     },
     "metadata": {},
     "output_type": "display_data"
    }
   ],
   "source": [
    "## REQUIRED LIBRARIES\n",
    "# For data wrangling\n",
    "import numpy as np # linear algebra\n",
    "import pandas as pd # data processing, CSV file I/O (e.g. pd.read_csv)\n",
    "import os\n",
    "#print(os.listdir(\"../input\"))\n",
    "\n",
    "# For Visualization\n",
    "import matplotlib.pyplot as plt\n",
    "import seaborn as sns#visualization\n",
    "sns.set(style=\"ticks\", color_codes=True)\n",
    "import matplotlib.ticker as mtick # For specifying the axes tick format \n",
    "import plotly.offline as py#visualization\n",
    "py.init_notebook_mode(connected=True)#visualization\n",
    "import plotly.graph_objs as go#visualization\n",
    "import plotly.tools as tls#visualization\n",
    "import plotly.figure_factory as ff#visualization"
   ]
  },
  {
   "cell_type": "code",
   "execution_count": 2,
   "metadata": {},
   "outputs": [],
   "source": [
    "#import urllib, chardet"
   ]
  },
  {
   "cell_type": "code",
   "execution_count": 3,
   "metadata": {},
   "outputs": [],
   "source": [
    "#u = chardet.UniversalDetector()\n"
   ]
  },
  {
   "cell_type": "code",
   "execution_count": 4,
   "metadata": {
    "_uuid": "8deac4578c29dd52bc5dae0fb3709bfea0a2c5b0"
   },
   "outputs": [],
   "source": [
    "#Import dataset into and display head of your dataset\n",
    "\n",
    "churny = 'churn.csv'\n",
    "#churn = pd.read_csv(churny)\n"
   ]
  },
  {
   "cell_type": "code",
   "execution_count": 5,
   "metadata": {},
   "outputs": [
    {
     "data": {
      "text/plain": [
       "{'encoding': 'ISO-8859-1', 'confidence': 0.73, 'language': ''}"
      ]
     },
     "execution_count": 5,
     "metadata": {},
     "output_type": "execute_result"
    }
   ],
   "source": [
    "import chardet\n",
    "with open(churny, 'rb') as rawdata:\n",
    "    result = chardet.detect(rawdata.read(100000))\n",
    "result"
   ]
  },
  {
   "cell_type": "code",
   "execution_count": 6,
   "metadata": {},
   "outputs": [
    {
     "data": {
      "text/html": [
       "<div>\n",
       "<style scoped>\n",
       "    .dataframe tbody tr th:only-of-type {\n",
       "        vertical-align: middle;\n",
       "    }\n",
       "\n",
       "    .dataframe tbody tr th {\n",
       "        vertical-align: top;\n",
       "    }\n",
       "\n",
       "    .dataframe thead th {\n",
       "        text-align: right;\n",
       "    }\n",
       "</style>\n",
       "<table border=\"1\" class=\"dataframe\">\n",
       "  <thead>\n",
       "    <tr style=\"text-align: right;\">\n",
       "      <th></th>\n",
       "      <th>S/N</th>\n",
       "      <th>ClientName</th>\n",
       "      <th>Address</th>\n",
       "      <th>ClientID</th>\n",
       "      <th>MerchantID</th>\n",
       "      <th>TerminalID</th>\n",
       "      <th>Tenure</th>\n",
       "      <th>BusinessType</th>\n",
       "      <th>BusinessAge</th>\n",
       "      <th>Balance</th>\n",
       "      <th>HasMB</th>\n",
       "      <th>AverageTrans</th>\n",
       "      <th>HasOtherAcc</th>\n",
       "      <th>churned</th>\n",
       "    </tr>\n",
       "  </thead>\n",
       "  <tbody>\n",
       "    <tr>\n",
       "      <th>0</th>\n",
       "      <td>1</td>\n",
       "      <td>HONOUR SCHOOL                                 ...</td>\n",
       "      <td>Ikeja</td>\n",
       "      <td>90101773301</td>\n",
       "      <td>2057LA999995707</td>\n",
       "      <td>2057QZ83</td>\n",
       "      <td>2</td>\n",
       "      <td>Enterprise</td>\n",
       "      <td>42</td>\n",
       "      <td>20000.0</td>\n",
       "      <td>1</td>\n",
       "      <td>119346.88</td>\n",
       "      <td>1</td>\n",
       "      <td>1</td>\n",
       "    </tr>\n",
       "    <tr>\n",
       "      <th>1</th>\n",
       "      <td>2</td>\n",
       "      <td>TORTY PAUL CHIECHEFULAM                       ...</td>\n",
       "      <td>Ikeja</td>\n",
       "      <td>90100906606</td>\n",
       "      <td>2057LA999995708</td>\n",
       "      <td>2057QZ84</td>\n",
       "      <td>8</td>\n",
       "      <td>Enterprise</td>\n",
       "      <td>41</td>\n",
       "      <td>50000000.0</td>\n",
       "      <td>0</td>\n",
       "      <td>73322.00</td>\n",
       "      <td>1</td>\n",
       "      <td>0</td>\n",
       "    </tr>\n",
       "    <tr>\n",
       "      <th>2</th>\n",
       "      <td>3</td>\n",
       "      <td>CHUDAN GLOBAL SYSTEMS NIG LTD                 ...</td>\n",
       "      <td>Ikeja</td>\n",
       "      <td>91000020861</td>\n",
       "      <td>2057LA999995709</td>\n",
       "      <td>2057QZ85</td>\n",
       "      <td>5</td>\n",
       "      <td>coperative</td>\n",
       "      <td>42</td>\n",
       "      <td>3000000.0</td>\n",
       "      <td>1</td>\n",
       "      <td>113677.53</td>\n",
       "      <td>0</td>\n",
       "      <td>0</td>\n",
       "    </tr>\n",
       "    <tr>\n",
       "      <th>3</th>\n",
       "      <td>4</td>\n",
       "      <td>ALIU ANIMASHAUN BARAKAT KIKELOMO</td>\n",
       "      <td>Ikeja</td>\n",
       "      <td>90201278489</td>\n",
       "      <td>2057LA999995710</td>\n",
       "      <td>2057QZ86</td>\n",
       "      <td>2</td>\n",
       "      <td>Individual</td>\n",
       "      <td>39</td>\n",
       "      <td>30000.0</td>\n",
       "      <td>0</td>\n",
       "      <td>124607.70</td>\n",
       "      <td>0</td>\n",
       "      <td>1</td>\n",
       "    </tr>\n",
       "    <tr>\n",
       "      <th>4</th>\n",
       "      <td>5</td>\n",
       "      <td>PESSU TEMISANREN</td>\n",
       "      <td>Ikeja</td>\n",
       "      <td>91300944838</td>\n",
       "      <td>2057LA999995416</td>\n",
       "      <td>2057QN36</td>\n",
       "      <td>7</td>\n",
       "      <td>Enterprise</td>\n",
       "      <td>43</td>\n",
       "      <td>50000000.0</td>\n",
       "      <td>1</td>\n",
       "      <td>11276.48</td>\n",
       "      <td>1</td>\n",
       "      <td>0</td>\n",
       "    </tr>\n",
       "  </tbody>\n",
       "</table>\n",
       "</div>"
      ],
      "text/plain": [
       "   S/N                                         ClientName Address  \\\n",
       "0    1  HONOUR SCHOOL                                 ...   Ikeja   \n",
       "1    2  TORTY PAUL CHIECHEFULAM                       ...   Ikeja   \n",
       "2    3  CHUDAN GLOBAL SYSTEMS NIG LTD                 ...   Ikeja   \n",
       "3    4                   ALIU ANIMASHAUN BARAKAT KIKELOMO   Ikeja   \n",
       "4    5                                   PESSU TEMISANREN   Ikeja   \n",
       "\n",
       "      ClientID       MerchantID TerminalID  Tenure BusinessType  BusinessAge  \\\n",
       "0  90101773301  2057LA999995707   2057QZ83       2   Enterprise           42   \n",
       "1  90100906606  2057LA999995708   2057QZ84       8   Enterprise           41   \n",
       "2  91000020861  2057LA999995709   2057QZ85       5   coperative           42   \n",
       "3  90201278489  2057LA999995710   2057QZ86       2   Individual           39   \n",
       "4  91300944838  2057LA999995416   2057QN36       7   Enterprise           43   \n",
       "\n",
       "      Balance  HasMB  AverageTrans  HasOtherAcc  churned  \n",
       "0     20000.0      1     119346.88            1        1  \n",
       "1  50000000.0      0      73322.00            1        0  \n",
       "2   3000000.0      1     113677.53            0        0  \n",
       "3     30000.0      0     124607.70            0        1  \n",
       "4  50000000.0      1      11276.48            1        0  "
      ]
     },
     "execution_count": 6,
     "metadata": {},
     "output_type": "execute_result"
    }
   ],
   "source": [
    "churn = pd.read_csv(churny, encoding='ISO-8859-1')\n",
    "#churn.shape()\n",
    "churn.head()"
   ]
  },
  {
   "cell_type": "markdown",
   "metadata": {},
   "source": [
    "As said understanding the relation of things, people and business metrics all plays a big to understand those small obvious patterns  before the core exploratory phase,thats why  some of the attributes  have almost no impact into our results such as Client Name, Client ID,  Serial Number,... as long as we have an index(counts) it will serve as an ID."
   ]
  },
  {
   "cell_type": "code",
   "execution_count": 7,
   "metadata": {
    "_uuid": "3c0024dbb01a680946b4a3a2aa9fb81d6752051a"
   },
   "outputs": [],
   "source": [
    "#drop unnecessary attributes and display new dataset\n",
    "churn = churn.drop([\"S/N\",\"ClientName\", \"ClientID\", \"MerchantID\", \"TerminalID\" ], axis =1)\n"
   ]
  },
  {
   "cell_type": "code",
   "execution_count": 8,
   "metadata": {
    "_uuid": "fd7fc8c01fee6809ca12702c49bacd3909977533"
   },
   "outputs": [
    {
     "name": "stdout",
     "output_type": "stream",
     "text": [
      "Rows :  1369\n",
      "Columns  :  9\n"
     ]
    }
   ],
   "source": [
    "#Describe how big is out dataset helps to understand how big will be our analysis and requirements.\n",
    "print(\"Rows : \",churn.shape[0])\n",
    "print(\"Columns  : \",churn.shape[1])"
   ]
  },
  {
   "cell_type": "code",
   "execution_count": 9,
   "metadata": {
    "_uuid": "e47dcf78b0f28c39fa7ba56f7ffcc7af318dca15"
   },
   "outputs": [
    {
     "data": {
      "text/plain": [
       "Address         False\n",
       "Tenure          False\n",
       "BusinessType    False\n",
       "BusinessAge     False\n",
       "Balance         False\n",
       "HasMB           False\n",
       "AverageTrans    False\n",
       "HasOtherAcc     False\n",
       "churned         False\n",
       "dtype: bool"
      ]
     },
     "execution_count": 9,
     "metadata": {},
     "output_type": "execute_result"
    }
   ],
   "source": [
    "#I check if there is any NaN values that can bring biased scenario, all column attributes should return false to verify this \n",
    "churn.isnull().any()"
   ]
  },
  {
   "cell_type": "code",
   "execution_count": 10,
   "metadata": {
    "_uuid": "b03f8ee654b6e740c8618b0939225600755dc68f"
   },
   "outputs": [
    {
     "name": "stdout",
     "output_type": "stream",
     "text": [
      "\n",
      "Unique values :  \n",
      " Address            3\n",
      "Tenure             8\n",
      "BusinessType       3\n",
      "BusinessAge       62\n",
      "Balance           36\n",
      "HasMB              2\n",
      "AverageTrans    1368\n",
      "HasOtherAcc        2\n",
      "churned            2\n",
      "dtype: int64\n"
     ]
    }
   ],
   "source": [
    "#count our unique values without duplication of same figure\n",
    "\n",
    "print (\"\\nUnique values :  \\n\",churn.nunique())"
   ]
  },
  {
   "cell_type": "markdown",
   "metadata": {
    "_uuid": "d4bc71f9183cc57ecf0d46a4042dcbb535e91cc0"
   },
   "source": [
    "How huge are our attributes? in the meantime it is quite easier to spot that Address, tenure, BusinessType, Has MobileBanking, HasOtherAccount in same Bank and Churned are categorical attributes that can corresponds to (yes/no) or 1/0 to define its state. so the rest of the attributes should be continuous attributes."
   ]
  },
  {
   "cell_type": "code",
   "execution_count": 11,
   "metadata": {
    "_uuid": "b49d2ac231e41936f9fa91f5c99a0f764bc1847f"
   },
   "outputs": [
    {
     "data": {
      "text/plain": [
       "Address          object\n",
       "Tenure            int64\n",
       "BusinessType     object\n",
       "BusinessAge       int64\n",
       "Balance         float64\n",
       "HasMB             int64\n",
       "AverageTrans    float64\n",
       "HasOtherAcc       int64\n",
       "churned           int64\n",
       "dtype: object"
      ]
     },
     "execution_count": 11,
     "metadata": {},
     "output_type": "execute_result"
    }
   ],
   "source": [
    "#what are our data types\n",
    "churn.dtypes"
   ]
  },
  {
   "cell_type": "code",
   "execution_count": 12,
   "metadata": {
    "_uuid": "00fa192d9c36f8edd4a0f1ce059a7bc421b91c87"
   },
   "outputs": [
    {
     "data": {
      "text/html": [
       "<div>\n",
       "<style scoped>\n",
       "    .dataframe tbody tr th:only-of-type {\n",
       "        vertical-align: middle;\n",
       "    }\n",
       "\n",
       "    .dataframe tbody tr th {\n",
       "        vertical-align: top;\n",
       "    }\n",
       "\n",
       "    .dataframe thead th {\n",
       "        text-align: right;\n",
       "    }\n",
       "</style>\n",
       "<table border=\"1\" class=\"dataframe\">\n",
       "  <thead>\n",
       "    <tr style=\"text-align: right;\">\n",
       "      <th></th>\n",
       "      <th>Tenure</th>\n",
       "      <th>BusinessAge</th>\n",
       "      <th>Balance</th>\n",
       "      <th>HasMB</th>\n",
       "      <th>AverageTrans</th>\n",
       "      <th>HasOtherAcc</th>\n",
       "    </tr>\n",
       "    <tr>\n",
       "      <th>churned</th>\n",
       "      <th></th>\n",
       "      <th></th>\n",
       "      <th></th>\n",
       "      <th></th>\n",
       "      <th></th>\n",
       "      <th></th>\n",
       "    </tr>\n",
       "  </thead>\n",
       "  <tbody>\n",
       "    <tr>\n",
       "      <th>0</th>\n",
       "      <td>5.965422</td>\n",
       "      <td>39.082988</td>\n",
       "      <td>1.908077e+07</td>\n",
       "      <td>0.723375</td>\n",
       "      <td>98489.244495</td>\n",
       "      <td>0.506224</td>\n",
       "    </tr>\n",
       "    <tr>\n",
       "      <th>1</th>\n",
       "      <td>2.727554</td>\n",
       "      <td>38.784830</td>\n",
       "      <td>2.902446e+06</td>\n",
       "      <td>0.707430</td>\n",
       "      <td>101764.497090</td>\n",
       "      <td>0.500000</td>\n",
       "    </tr>\n",
       "  </tbody>\n",
       "</table>\n",
       "</div>"
      ],
      "text/plain": [
       "           Tenure  BusinessAge       Balance     HasMB   AverageTrans  \\\n",
       "churned                                                                 \n",
       "0        5.965422    39.082988  1.908077e+07  0.723375   98489.244495   \n",
       "1        2.727554    38.784830  2.902446e+06  0.707430  101764.497090   \n",
       "\n",
       "         HasOtherAcc  \n",
       "churned               \n",
       "0           0.506224  \n",
       "1           0.500000  "
      ]
     },
     "execution_count": 12,
     "metadata": {},
     "output_type": "execute_result"
    }
   ],
   "source": [
    "#Mean=> the are a lot of average calculations in statistics so i used mean the check the average possibility of attributtes to impact the situation\n",
    "churn.groupby(['churned']).mean()"
   ]
  },
  {
   "cell_type": "markdown",
   "metadata": {
    "_uuid": "f7a00a3ba7ccb868eff46609f2d5247292244ad5"
   },
   "source": [
    "The above Mean calculation is one of the ways to understand the average of our data, this helps us to investigate into our study whenever it has high or low measures to help to avoid biases. the difference between churned and retained are not that remarkable to give us a big picture of our study so any case can appear. But to note that:\n",
    "\n",
    "* Customers with low Balance tend to churn,reasonable!\n",
    "* on average older customers are the most to churn,questionable?\n",
    "* customers with high Average Transaction are churning because probably, they are getting attracted by other banks offers which increase their wealth or with reduced bank charges\n",
    "* tenure,Has Mobile Banking  and having another type of account in same bank mean are not explicitly helping in this case to hightlight anything different."
   ]
  },
  {
   "cell_type": "markdown",
   "metadata": {
    "_uuid": "8dfd2c3fc798bf786cd6a0710d34f861a7ef9c42"
   },
   "source": [
    "Before exploring farther into our dataset,  we can see attributes correlation with churn as we have seen that mean results are not so informative, so i first change dummies variables which are Address and BusinessType in our dataset so that we can get to define correlation of attributes to churn way easy."
   ]
  },
  {
   "cell_type": "code",
   "execution_count": 13,
   "metadata": {
    "_uuid": "28b27e0d1847d26338b5385d0807956737ac07f3"
   },
   "outputs": [
    {
     "data": {
      "text/html": [
       "<div>\n",
       "<style scoped>\n",
       "    .dataframe tbody tr th:only-of-type {\n",
       "        vertical-align: middle;\n",
       "    }\n",
       "\n",
       "    .dataframe tbody tr th {\n",
       "        vertical-align: top;\n",
       "    }\n",
       "\n",
       "    .dataframe thead th {\n",
       "        text-align: right;\n",
       "    }\n",
       "</style>\n",
       "<table border=\"1\" class=\"dataframe\">\n",
       "  <thead>\n",
       "    <tr style=\"text-align: right;\">\n",
       "      <th></th>\n",
       "      <th>Tenure</th>\n",
       "      <th>BusinessAge</th>\n",
       "      <th>Balance</th>\n",
       "      <th>HasMB</th>\n",
       "      <th>AverageTrans</th>\n",
       "      <th>HasOtherAcc</th>\n",
       "      <th>churned</th>\n",
       "      <th>Address_Ajah</th>\n",
       "      <th>Address_Ikeja</th>\n",
       "      <th>Address_Lekki</th>\n",
       "      <th>BusinessType_Enterprise</th>\n",
       "      <th>BusinessType_Individual</th>\n",
       "      <th>BusinessType_coperative</th>\n",
       "    </tr>\n",
       "  </thead>\n",
       "  <tbody>\n",
       "    <tr>\n",
       "      <th>0</th>\n",
       "      <td>2</td>\n",
       "      <td>42</td>\n",
       "      <td>20000.0</td>\n",
       "      <td>1</td>\n",
       "      <td>119346.88</td>\n",
       "      <td>1</td>\n",
       "      <td>1</td>\n",
       "      <td>0</td>\n",
       "      <td>1</td>\n",
       "      <td>0</td>\n",
       "      <td>1</td>\n",
       "      <td>0</td>\n",
       "      <td>0</td>\n",
       "    </tr>\n",
       "    <tr>\n",
       "      <th>1</th>\n",
       "      <td>8</td>\n",
       "      <td>41</td>\n",
       "      <td>50000000.0</td>\n",
       "      <td>0</td>\n",
       "      <td>73322.00</td>\n",
       "      <td>1</td>\n",
       "      <td>0</td>\n",
       "      <td>0</td>\n",
       "      <td>1</td>\n",
       "      <td>0</td>\n",
       "      <td>1</td>\n",
       "      <td>0</td>\n",
       "      <td>0</td>\n",
       "    </tr>\n",
       "    <tr>\n",
       "      <th>2</th>\n",
       "      <td>5</td>\n",
       "      <td>42</td>\n",
       "      <td>3000000.0</td>\n",
       "      <td>1</td>\n",
       "      <td>113677.53</td>\n",
       "      <td>0</td>\n",
       "      <td>0</td>\n",
       "      <td>0</td>\n",
       "      <td>1</td>\n",
       "      <td>0</td>\n",
       "      <td>0</td>\n",
       "      <td>0</td>\n",
       "      <td>1</td>\n",
       "    </tr>\n",
       "    <tr>\n",
       "      <th>3</th>\n",
       "      <td>2</td>\n",
       "      <td>39</td>\n",
       "      <td>30000.0</td>\n",
       "      <td>0</td>\n",
       "      <td>124607.70</td>\n",
       "      <td>0</td>\n",
       "      <td>1</td>\n",
       "      <td>0</td>\n",
       "      <td>1</td>\n",
       "      <td>0</td>\n",
       "      <td>0</td>\n",
       "      <td>1</td>\n",
       "      <td>0</td>\n",
       "    </tr>\n",
       "    <tr>\n",
       "      <th>4</th>\n",
       "      <td>7</td>\n",
       "      <td>43</td>\n",
       "      <td>50000000.0</td>\n",
       "      <td>1</td>\n",
       "      <td>11276.48</td>\n",
       "      <td>1</td>\n",
       "      <td>0</td>\n",
       "      <td>0</td>\n",
       "      <td>1</td>\n",
       "      <td>0</td>\n",
       "      <td>1</td>\n",
       "      <td>0</td>\n",
       "      <td>0</td>\n",
       "    </tr>\n",
       "  </tbody>\n",
       "</table>\n",
       "</div>"
      ],
      "text/plain": [
       "   Tenure  BusinessAge     Balance  HasMB  AverageTrans  HasOtherAcc  churned  \\\n",
       "0       2           42     20000.0      1     119346.88            1        1   \n",
       "1       8           41  50000000.0      0      73322.00            1        0   \n",
       "2       5           42   3000000.0      1     113677.53            0        0   \n",
       "3       2           39     30000.0      0     124607.70            0        1   \n",
       "4       7           43  50000000.0      1      11276.48            1        0   \n",
       "\n",
       "   Address_Ajah  Address_Ikeja  Address_Lekki  BusinessType_Enterprise  \\\n",
       "0             0              1              0                        1   \n",
       "1             0              1              0                        1   \n",
       "2             0              1              0                        0   \n",
       "3             0              1              0                        0   \n",
       "4             0              1              0                        1   \n",
       "\n",
       "   BusinessType_Individual  BusinessType_coperative  \n",
       "0                        0                        0  \n",
       "1                        0                        0  \n",
       "2                        0                        1  \n",
       "3                        1                        0  \n",
       "4                        0                        0  "
      ]
     },
     "execution_count": 13,
     "metadata": {},
     "output_type": "execute_result"
    }
   ],
   "source": [
    "#Let's convert all the categorical variables into dummy variables\n",
    "df = pd.get_dummies(churn)\n",
    "df.head()"
   ]
  },
  {
   "cell_type": "code",
   "execution_count": 14,
   "metadata": {
    "_uuid": "2d7c168cf40c13032419a37cd613a1b0997e1151"
   },
   "outputs": [
    {
     "data": {
      "text/plain": [
       "<matplotlib.axes._subplots.AxesSubplot at 0xd31e1176a0>"
      ]
     },
     "execution_count": 14,
     "metadata": {},
     "output_type": "execute_result"
    },
    {
     "data": {
      "image/png": "[encoded data removed]",
      "text/plain": [
       "<Figure size 720x288 with 1 Axes>"
      ]
     },
     "metadata": {
      "needs_background": "light"
     },
     "output_type": "display_data"
    }
   ],
   "source": [
    "plt.figure(figsize=(10,4))\n",
    "df.corr()['churned'].sort_values(ascending = False).plot(kind='bar')"
   ]
  },
  {
   "cell_type": "markdown",
   "metadata": {
    "_uuid": "425273b01eab343c6c2d0e73675bfc2ae3e08960"
   },
   "source": [
    "Let's check the exact correlation with figures "
   ]
  },
  {
   "cell_type": "code",
   "execution_count": 15,
   "metadata": {
    "_uuid": "89b5e8d04fc531c4008431b717933e69edab9df7"
   },
   "outputs": [
    {
     "data": {
      "image/png": "[encoded data removed]",
      "text/plain": [
       "<Figure size 1440x720 with 2 Axes>"
      ]
     },
     "metadata": {
      "needs_background": "light"
     },
     "output_type": "display_data"
    }
   ],
   "source": [
    "plt.figure(figsize = (20,10))\n",
    "sns.heatmap((df.loc[:, ['Tenure','Balance','HasMB','HasOtherAcc','churned','BusinessAge','BusinessType_Enterprise','BusinessType_Individual','BusinessType_coperative','Address_Ikeja','Address_Ajah', 'Address_Lekki']]).corr(),\n",
    "            annot=True,linewidths=.5);"
   ]
  },
  {
   "cell_type": "markdown",
   "metadata": {
    "_uuid": "2b6b823922a92ccead8ae7c8035c549c621e7fdd"
   },
   "source": [
    "The above heatmap easily depict how different features correlate among themselves (including against the target feature: \"Churned\").\n",
    "\n",
    "Trends from the heatmap visualization:\n",
    "\n",
    "* All features have a weak or strong correlation with the target (Thus we are considering all of them for our model)\n",
    "* Tenure, BusinessType, Address, Balance are the features with significant correlation.\n"
   ]
  },
  {
   "cell_type": "markdown",
   "metadata": {
    "_uuid": "a9ede2c17a80f63bfaf9bb7fb8314eb595e8226b"
   },
   "source": [
    "**Data Exploration**\n",
    "\n",
    "This section is the core part of understanding the problem and channel it to the right features, as said before we need to establish possible relations in our attributes inorder to secure the best predictions.\n",
    "\n",
    "Note: **Churned ** will always play the role of a target"
   ]
  },
  {
   "cell_type": "code",
   "execution_count": 16,
   "metadata": {},
   "outputs": [
    {
     "data": {
      "image/png": "[encoded data removed]",
      "text/plain": [
       "<Figure size 720x576 with 1 Axes>"
      ]
     },
     "metadata": {},
     "output_type": "display_data"
    }
   ],
   "source": [
    "labels = 'Churned', 'Retained'\n",
    "sizes = [df.churned[df['churned']==1].count(), df.churned[df['churned']==0].count()]\n",
    "explode = (0, 0.1)\n",
    "fig1, ax1 = plt.subplots(figsize=(10, 8))\n",
    "ax1.pie(sizes, explode=explode, labels=labels, autopct='%1.1f%%',\n",
    "        shadow=True, startangle=90)\n",
    "ax1.axis('equal')\n",
    "plt.title(\"POS Clients Churn\", size = 20)\n",
    "plt.show()"
   ]
  },
  {
   "cell_type": "code",
   "execution_count": 17,
   "metadata": {
    "_uuid": "fec137a1f7e9a33c513f40b365b5e48aeeff567e"
   },
   "outputs": [
    {
     "data": {
      "application/vnd.plotly.v1+json": {
       "config": {
        "linkText": "Export to plot.ly",
        "plotlyServerURL": "https://plot.ly",
        "showLink": false
       },
       "data": [
        {
         "hole": 0.2,
         "hoverinfo": "label+value+text",
         "labels": [
          0,
          1
         ],
         "marker": {
          "colors": [
           "royalblue",
           "lime"
          ],
          "line": {
           "color": "white",
           "width": 0.3
          }
         },
         "rotation": 90,
         "type": "pie",
         "values": [
          723,
          646
         ]
        }
       ],
       "layout": {
        "paper_bgcolor": "rgb(243,243,243)",
        "plot_bgcolor": "rgb(243,243,243)",
        "template": {
         "data": {
          "bar": [
           {
            "error_x": {
             "color": "#2a3f5f"
            },
            "error_y": {
             "color": "#2a3f5f"
            },
            "marker": {
             "line": {
              "color": "#E5ECF6",
              "width": 0.5
             }
            },
            "type": "bar"
           }
          ],
          "barpolar": [
           {
            "marker": {
             "line": {
              "color": "#E5ECF6",
              "width": 0.5
             }
            },
            "type": "barpolar"
           }
          ],
          "carpet": [
           {
            "aaxis": {
             "endlinecolor": "#2a3f5f",
             "gridcolor": "white",
             "linecolor": "white",
             "minorgridcolor": "white",
             "startlinecolor": "#2a3f5f"
            },
            "baxis": {
             "endlinecolor": "#2a3f5f",
             "gridcolor": "white",
             "linecolor": "white",
             "minorgridcolor": "white",
             "startlinecolor": "#2a3f5f"
            },
            "type": "carpet"
           }
          ],
          "choropleth": [
           {
            "colorbar": {
             "outlinewidth": 0,
             "ticks": ""
            },
            "type": "choropleth"
           }
          ],
          "contour": [
           {
            "colorbar": {
             "outlinewidth": 0,
             "ticks": ""
            },
            "colorscale": [
             [
              0,
              "#0d0887"
             ],
             [
              0.1111111111111111,
              "#46039f"
             ],
             [
              0.2222222222222222,
              "#7201a8"
             ],
             [
              0.3333333333333333,
              "#9c179e"
             ],
             [
              0.4444444444444444,
              "#bd3786"
             ],
             [
              0.5555555555555556,
              "#d8576b"
             ],
             [
              0.6666666666666666,
              "#ed7953"
             ],
             [
              0.7777777777777778,
              "#fb9f3a"
             ],
             [
              0.8888888888888888,
              "#fdca26"
             ],
             [
              1,
              "#f0f921"
             ]
            ],
            "type": "contour"
           }
          ],
          "contourcarpet": [
           {
            "colorbar": {
             "outlinewidth": 0,
             "ticks": ""
            },
            "type": "contourcarpet"
           }
          ],
          "heatmap": [
           {
            "colorbar": {
             "outlinewidth": 0,
             "ticks": ""
            },
            "colorscale": [
             [
              0,
              "#0d0887"
             ],
             [
              0.1111111111111111,
              "#46039f"
             ],
             [
              0.2222222222222222,
              "#7201a8"
             ],
             [
              0.3333333333333333,
              "#9c179e"
             ],
             [
              0.4444444444444444,
              "#bd3786"
             ],
             [
              0.5555555555555556,
              "#d8576b"
             ],
             [
              0.6666666666666666,
              "#ed7953"
             ],
             [
              0.7777777777777778,
              "#fb9f3a"
             ],
             [
              0.8888888888888888,
              "#fdca26"
             ],
             [
              1,
              "#f0f921"
             ]
            ],
            "type": "heatmap"
           }
          ],
          "heatmapgl": [
           {
            "colorbar": {
             "outlinewidth": 0,
             "ticks": ""
            },
            "colorscale": [
             [
              0,
              "#0d0887"
             ],
             [
              0.1111111111111111,
              "#46039f"
             ],
             [
              0.2222222222222222,
              "#7201a8"
             ],
             [
              0.3333333333333333,
              "#9c179e"
             ],
             [
              0.4444444444444444,
              "#bd3786"
             ],
             [
              0.5555555555555556,
              "#d8576b"
             ],
             [
              0.6666666666666666,
              "#ed7953"
             ],
             [
              0.7777777777777778,
              "#fb9f3a"
             ],
             [
              0.8888888888888888,
              "#fdca26"
             ],
             [
              1,
              "#f0f921"
             ]
            ],
            "type": "heatmapgl"
           }
          ],
          "histogram": [
           {
            "marker": {
             "colorbar": {
              "outlinewidth": 0,
              "ticks": ""
             }
            },
            "type": "histogram"
           }
          ],
          "histogram2d": [
           {
            "colorbar": {
             "outlinewidth": 0,
             "ticks": ""
            },
            "colorscale": [
             [
              0,
              "#0d0887"
             ],
             [
              0.1111111111111111,
              "#46039f"
             ],
             [
              0.2222222222222222,
              "#7201a8"
             ],
             [
              0.3333333333333333,
              "#9c179e"
             ],
             [
              0.4444444444444444,
              "#bd3786"
             ],
             [
              0.5555555555555556,
              "#d8576b"
             ],
             [
              0.6666666666666666,
              "#ed7953"
             ],
             [
              0.7777777777777778,
              "#fb9f3a"
             ],
             [
              0.8888888888888888,
              "#fdca26"
             ],
             [
              1,
              "#f0f921"
             ]
            ],
            "type": "histogram2d"
           }
          ],
          "histogram2dcontour": [
           {
            "colorbar": {
             "outlinewidth": 0,
             "ticks": ""
            },
            "colorscale": [
             [
              0,
              "#0d0887"
             ],
             [
              0.1111111111111111,
              "#46039f"
             ],
             [
              0.2222222222222222,
              "#7201a8"
             ],
             [
              0.3333333333333333,
              "#9c179e"
             ],
             [
              0.4444444444444444,
              "#bd3786"
             ],
             [
              0.5555555555555556,
              "#d8576b"
             ],
             [
              0.6666666666666666,
              "#ed7953"
             ],
             [
              0.7777777777777778,
              "#fb9f3a"
             ],
             [
              0.8888888888888888,
              "#fdca26"
             ],
             [
              1,
              "#f0f921"
             ]
            ],
            "type": "histogram2dcontour"
           }
          ],
          "mesh3d": [
           {
            "colorbar": {
             "outlinewidth": 0,
             "ticks": ""
            },
            "type": "mesh3d"
           }
          ],
          "parcoords": [
           {
            "line": {
             "colorbar": {
              "outlinewidth": 0,
              "ticks": ""
             }
            },
            "type": "parcoords"
           }
          ],
          "pie": [
           {
            "automargin": true,
            "type": "pie"
           }
          ],
          "scatter": [
           {
            "marker": {
             "colorbar": {
              "outlinewidth": 0,
              "ticks": ""
             }
            },
            "type": "scatter"
           }
          ],
          "scatter3d": [
           {
            "line": {
             "colorbar": {
              "outlinewidth": 0,
              "ticks": ""
             }
            },
            "marker": {
             "colorbar": {
              "outlinewidth": 0,
              "ticks": ""
             }
            },
            "type": "scatter3d"
           }
          ],
          "scattercarpet": [
           {
            "marker": {
             "colorbar": {
              "outlinewidth": 0,
              "ticks": ""
             }
            },
            "type": "scattercarpet"
           }
          ],
          "scattergeo": [
           {
            "marker": {
             "colorbar": {
              "outlinewidth": 0,
              "ticks": ""
             }
            },
            "type": "scattergeo"
           }
          ],
          "scattergl": [
           {
            "marker": {
             "colorbar": {
              "outlinewidth": 0,
              "ticks": ""
             }
            },
            "type": "scattergl"
           }
          ],
          "scattermapbox": [
           {
            "marker": {
             "colorbar": {
              "outlinewidth": 0,
              "ticks": ""
             }
            },
            "type": "scattermapbox"
           }
          ],
          "scatterpolar": [
           {
            "marker": {
             "colorbar": {
              "outlinewidth": 0,
              "ticks": ""
             }
            },
            "type": "scatterpolar"
           }
          ],
          "scatterpolargl": [
           {
            "marker": {
             "colorbar": {
              "outlinewidth": 0,
              "ticks": ""
             }
            },
            "type": "scatterpolargl"
           }
          ],
          "scatterternary": [
           {
            "marker": {
             "colorbar": {
              "outlinewidth": 0,
              "ticks": ""
             }
            },
            "type": "scatterternary"
           }
          ],
          "surface": [
           {
            "colorbar": {
             "outlinewidth": 0,
             "ticks": ""
            },
            "colorscale": [
             [
              0,
              "#0d0887"
             ],
             [
              0.1111111111111111,
              "#46039f"
             ],
             [
              0.2222222222222222,
              "#7201a8"
             ],
             [
              0.3333333333333333,
              "#9c179e"
             ],
             [
              0.4444444444444444,
              "#bd3786"
             ],
             [
              0.5555555555555556,
              "#d8576b"
             ],
             [
              0.6666666666666666,
              "#ed7953"
             ],
             [
              0.7777777777777778,
              "#fb9f3a"
             ],
             [
              0.8888888888888888,
              "#fdca26"
             ],
             [
              1,
              "#f0f921"
             ]
            ],
            "type": "surface"
           }
          ],
          "table": [
           {
            "cells": {
             "fill": {
              "color": "#EBF0F8"
             },
             "line": {
              "color": "white"
             }
            },
            "header": {
             "fill": {
              "color": "#C8D4E3"
             },
             "line": {
              "color": "white"
             }
            },
            "type": "table"
           }
          ]
         },
         "layout": {
          "annotationdefaults": {
           "arrowcolor": "#2a3f5f",
           "arrowhead": 0,
           "arrowwidth": 1
          },
          "coloraxis": {
           "colorbar": {
            "outlinewidth": 0,
            "ticks": ""
           }
          },
          "colorscale": {
           "diverging": [
            [
             0,
             "#8e0152"
            ],
            [
             0.1,
             "#c51b7d"
            ],
            [
             0.2,
             "#de77ae"
            ],
            [
             0.3,
             "#f1b6da"
            ],
            [
             0.4,
             "#fde0ef"
            ],
            [
             0.5,
             "#f7f7f7"
            ],
            [
             0.6,
             "#e6f5d0"
            ],
            [
             0.7,
             "#b8e186"
            ],
            [
             0.8,
             "#7fbc41"
            ],
            [
             0.9,
             "#4d9221"
            ],
            [
             1,
             "#276419"
            ]
           ],
           "sequential": [
            [
             0,
             "#0d0887"
            ],
            [
             0.1111111111111111,
             "#46039f"
            ],
            [
             0.2222222222222222,
             "#7201a8"
            ],
            [
             0.3333333333333333,
             "#9c179e"
            ],
            [
             0.4444444444444444,
             "#bd3786"
            ],
            [
             0.5555555555555556,
             "#d8576b"
            ],
            [
             0.6666666666666666,
             "#ed7953"
            ],
            [
             0.7777777777777778,
             "#fb9f3a"
            ],
            [
             0.8888888888888888,
             "#fdca26"
            ],
            [
             1,
             "#f0f921"
            ]
           ],
           "sequentialminus": [
            [
             0,
             "#0d0887"
            ],
            [
             0.1111111111111111,
             "#46039f"
            ],
            [
             0.2222222222222222,
             "#7201a8"
            ],
            [
             0.3333333333333333,
             "#9c179e"
            ],
            [
             0.4444444444444444,
             "#bd3786"
            ],
            [
             0.5555555555555556,
             "#d8576b"
            ],
            [
             0.6666666666666666,
             "#ed7953"
            ],
            [
             0.7777777777777778,
             "#fb9f3a"
            ],
            [
             0.8888888888888888,
             "#fdca26"
            ],
            [
             1,
             "#f0f921"
            ]
           ]
          },
          "colorway": [
           "#636efa",
           "#EF553B",
           "#00cc96",
           "#ab63fa",
           "#FFA15A",
           "#19d3f3",
           "#FF6692",
           "#B6E880",
           "#FF97FF",
           "#FECB52"
          ],
          "font": {
           "color": "#2a3f5f"
          },
          "geo": {
           "bgcolor": "white",
           "lakecolor": "white",
           "landcolor": "#E5ECF6",
           "showlakes": true,
           "showland": true,
           "subunitcolor": "white"
          },
          "hoverlabel": {
           "align": "left"
          },
          "hovermode": "closest",
          "mapbox": {
           "style": "light"
          },
          "paper_bgcolor": "white",
          "plot_bgcolor": "#E5ECF6",
          "polar": {
           "angularaxis": {
            "gridcolor": "white",
            "linecolor": "white",
            "ticks": ""
           },
           "bgcolor": "#E5ECF6",
           "radialaxis": {
            "gridcolor": "white",
            "linecolor": "white",
            "ticks": ""
           }
          },
          "scene": {
           "xaxis": {
            "backgroundcolor": "#E5ECF6",
            "gridcolor": "white",
            "gridwidth": 2,
            "linecolor": "white",
            "showbackground": true,
            "ticks": "",
            "zerolinecolor": "white"
           },
           "yaxis": {
            "backgroundcolor": "#E5ECF6",
            "gridcolor": "white",
            "gridwidth": 2,
            "linecolor": "white",
            "showbackground": true,
            "ticks": "",
            "zerolinecolor": "white"
           },
           "zaxis": {
            "backgroundcolor": "#E5ECF6",
            "gridcolor": "white",
            "gridwidth": 2,
            "linecolor": "white",
            "showbackground": true,
            "ticks": "",
            "zerolinecolor": "white"
           }
          },
          "shapedefaults": {
           "line": {
            "color": "#2a3f5f"
           }
          },
          "ternary": {
           "aaxis": {
            "gridcolor": "white",
            "linecolor": "white",
            "ticks": ""
           },
           "baxis": {
            "gridcolor": "white",
            "linecolor": "white",
            "ticks": ""
           },
           "bgcolor": "#E5ECF6",
           "caxis": {
            "gridcolor": "white",
            "linecolor": "white",
            "ticks": ""
           }
          },
          "title": {
           "x": 0.05
          },
          "xaxis": {
           "automargin": true,
           "gridcolor": "white",
           "linecolor": "white",
           "ticks": "",
           "title": {
            "standoff": 15
           },
           "zerolinecolor": "white",
           "zerolinewidth": 2
          },
          "yaxis": {
           "automargin": true,
           "gridcolor": "white",
           "linecolor": "white",
           "ticks": "",
           "title": {
            "standoff": 15
           },
           "zerolinecolor": "white",
           "zerolinewidth": 2
          }
         }
        },
        "title": {
         "text": "POS Clients Churn"
        }
       }
      },
      "text/html": [
       "<div>\n",
       "        \n",
       "        \n",
       "            <div id=\"052ac9bc-5c43-46df-b409-2e4336c4fd18\" class=\"plotly-graph-div\" style=\"height:525px; width:100%;\"></div>\n",
       "            <script type=\"text/javascript\">\n",
       "                require([\"plotly\"], function(Plotly) {\n",
       "                    window.PLOTLYENV=window.PLOTLYENV || {};\n",
       "                    \n",
       "                if (document.getElementById(\"052ac9bc-5c43-46df-b409-2e4336c4fd18\")) {\n",
       "                    Plotly.newPlot(\n",
       "                        '052ac9bc-5c43-46df-b409-2e4336c4fd18',\n",
       "                        [{\"hole\": 0.2, \"hoverinfo\": \"label+value+text\", \"labels\": [0, 1], \"marker\": {\"colors\": [\"royalblue\", \"lime\"], \"line\": {\"color\": \"white\", \"width\": 0.3}}, \"rotation\": 90, \"type\": \"pie\", \"values\": [723, 646]}],\n",
       "                        {\"paper_bgcolor\": \"rgb(243,243,243)\", \"plot_bgcolor\": \"rgb(243,243,243)\", \"template\": {\"data\": {\"bar\": [{\"error_x\": {\"color\": \"#2a3f5f\"}, \"error_y\": {\"color\": \"#2a3f5f\"}, \"marker\": {\"line\": {\"color\": \"#E5ECF6\", \"width\": 0.5}}, \"type\": \"bar\"}], \"barpolar\": [{\"marker\": {\"line\": {\"color\": \"#E5ECF6\", \"width\": 0.5}}, \"type\": \"barpolar\"}], \"carpet\": [{\"aaxis\": {\"endlinecolor\": \"#2a3f5f\", \"gridcolor\": \"white\", \"linecolor\": \"white\", \"minorgridcolor\": \"white\", \"startlinecolor\": \"#2a3f5f\"}, \"baxis\": {\"endlinecolor\": \"#2a3f5f\", \"gridcolor\": \"white\", \"linecolor\": \"white\", \"minorgridcolor\": \"white\", \"startlinecolor\": \"#2a3f5f\"}, \"type\": \"carpet\"}], \"choropleth\": [{\"colorbar\": {\"outlinewidth\": 0, \"ticks\": \"\"}, \"type\": \"choropleth\"}], \"contour\": [{\"colorbar\": {\"outlinewidth\": 0, \"ticks\": \"\"}, \"colorscale\": [[0.0, \"#0d0887\"], [0.1111111111111111, \"#46039f\"], [0.2222222222222222, \"#7201a8\"], [0.3333333333333333, \"#9c179e\"], [0.4444444444444444, \"#bd3786\"], [0.5555555555555556, \"#d8576b\"], [0.6666666666666666, \"#ed7953\"], [0.7777777777777778, \"#fb9f3a\"], [0.8888888888888888, \"#fdca26\"], [1.0, \"#f0f921\"]], \"type\": \"contour\"}], \"contourcarpet\": [{\"colorbar\": {\"outlinewidth\": 0, \"ticks\": \"\"}, \"type\": \"contourcarpet\"}], \"heatmap\": [{\"colorbar\": {\"outlinewidth\": 0, \"ticks\": \"\"}, \"colorscale\": [[0.0, \"#0d0887\"], [0.1111111111111111, \"#46039f\"], [0.2222222222222222, \"#7201a8\"], [0.3333333333333333, \"#9c179e\"], [0.4444444444444444, \"#bd3786\"], [0.5555555555555556, \"#d8576b\"], [0.6666666666666666, \"#ed7953\"], [0.7777777777777778, \"#fb9f3a\"], [0.8888888888888888, \"#fdca26\"], [1.0, \"#f0f921\"]], \"type\": \"heatmap\"}], \"heatmapgl\": [{\"colorbar\": {\"outlinewidth\": 0, \"ticks\": \"\"}, \"colorscale\": [[0.0, \"#0d0887\"], [0.1111111111111111, \"#46039f\"], [0.2222222222222222, \"#7201a8\"], [0.3333333333333333, \"#9c179e\"], [0.4444444444444444, \"#bd3786\"], [0.5555555555555556, \"#d8576b\"], [0.6666666666666666, \"#ed7953\"], [0.7777777777777778, \"#fb9f3a\"], [0.8888888888888888, \"#fdca26\"], [1.0, \"#f0f921\"]], \"type\": \"heatmapgl\"}], \"histogram\": [{\"marker\": {\"colorbar\": {\"outlinewidth\": 0, \"ticks\": \"\"}}, \"type\": \"histogram\"}], \"histogram2d\": [{\"colorbar\": {\"outlinewidth\": 0, \"ticks\": \"\"}, \"colorscale\": [[0.0, \"#0d0887\"], [0.1111111111111111, \"#46039f\"], [0.2222222222222222, \"#7201a8\"], [0.3333333333333333, \"#9c179e\"], [0.4444444444444444, \"#bd3786\"], [0.5555555555555556, \"#d8576b\"], [0.6666666666666666, \"#ed7953\"], [0.7777777777777778, \"#fb9f3a\"], [0.8888888888888888, \"#fdca26\"], [1.0, \"#f0f921\"]], \"type\": \"histogram2d\"}], \"histogram2dcontour\": [{\"colorbar\": {\"outlinewidth\": 0, \"ticks\": \"\"}, \"colorscale\": [[0.0, \"#0d0887\"], [0.1111111111111111, \"#46039f\"], [0.2222222222222222, \"#7201a8\"], [0.3333333333333333, \"#9c179e\"], [0.4444444444444444, \"#bd3786\"], [0.5555555555555556, \"#d8576b\"], [0.6666666666666666, \"#ed7953\"], [0.7777777777777778, \"#fb9f3a\"], [0.8888888888888888, \"#fdca26\"], [1.0, \"#f0f921\"]], \"type\": \"histogram2dcontour\"}], \"mesh3d\": [{\"colorbar\": {\"outlinewidth\": 0, \"ticks\": \"\"}, \"type\": \"mesh3d\"}], \"parcoords\": [{\"line\": {\"colorbar\": {\"outlinewidth\": 0, \"ticks\": \"\"}}, \"type\": \"parcoords\"}], \"pie\": [{\"automargin\": true, \"type\": \"pie\"}], \"scatter\": [{\"marker\": {\"colorbar\": {\"outlinewidth\": 0, \"ticks\": \"\"}}, \"type\": \"scatter\"}], \"scatter3d\": [{\"line\": {\"colorbar\": {\"outlinewidth\": 0, \"ticks\": \"\"}}, \"marker\": {\"colorbar\": {\"outlinewidth\": 0, \"ticks\": \"\"}}, \"type\": \"scatter3d\"}], \"scattercarpet\": [{\"marker\": {\"colorbar\": {\"outlinewidth\": 0, \"ticks\": \"\"}}, \"type\": \"scattercarpet\"}], \"scattergeo\": [{\"marker\": {\"colorbar\": {\"outlinewidth\": 0, \"ticks\": \"\"}}, \"type\": \"scattergeo\"}], \"scattergl\": [{\"marker\": {\"colorbar\": {\"outlinewidth\": 0, \"ticks\": \"\"}}, \"type\": \"scattergl\"}], \"scattermapbox\": [{\"marker\": {\"colorbar\": {\"outlinewidth\": 0, \"ticks\": \"\"}}, \"type\": \"scattermapbox\"}], \"scatterpolar\": [{\"marker\": {\"colorbar\": {\"outlinewidth\": 0, \"ticks\": \"\"}}, \"type\": \"scatterpolar\"}], \"scatterpolargl\": [{\"marker\": {\"colorbar\": {\"outlinewidth\": 0, \"ticks\": \"\"}}, \"type\": \"scatterpolargl\"}], \"scatterternary\": [{\"marker\": {\"colorbar\": {\"outlinewidth\": 0, \"ticks\": \"\"}}, \"type\": \"scatterternary\"}], \"surface\": [{\"colorbar\": {\"outlinewidth\": 0, \"ticks\": \"\"}, \"colorscale\": [[0.0, \"#0d0887\"], [0.1111111111111111, \"#46039f\"], [0.2222222222222222, \"#7201a8\"], [0.3333333333333333, \"#9c179e\"], [0.4444444444444444, \"#bd3786\"], [0.5555555555555556, \"#d8576b\"], [0.6666666666666666, \"#ed7953\"], [0.7777777777777778, \"#fb9f3a\"], [0.8888888888888888, \"#fdca26\"], [1.0, \"#f0f921\"]], \"type\": \"surface\"}], \"table\": [{\"cells\": {\"fill\": {\"color\": \"#EBF0F8\"}, \"line\": {\"color\": \"white\"}}, \"header\": {\"fill\": {\"color\": \"#C8D4E3\"}, \"line\": {\"color\": \"white\"}}, \"type\": \"table\"}]}, \"layout\": {\"annotationdefaults\": {\"arrowcolor\": \"#2a3f5f\", \"arrowhead\": 0, \"arrowwidth\": 1}, \"coloraxis\": {\"colorbar\": {\"outlinewidth\": 0, \"ticks\": \"\"}}, \"colorscale\": {\"diverging\": [[0, \"#8e0152\"], [0.1, \"#c51b7d\"], [0.2, \"#de77ae\"], [0.3, \"#f1b6da\"], [0.4, \"#fde0ef\"], [0.5, \"#f7f7f7\"], [0.6, \"#e6f5d0\"], [0.7, \"#b8e186\"], [0.8, \"#7fbc41\"], [0.9, \"#4d9221\"], [1, \"#276419\"]], \"sequential\": [[0.0, \"#0d0887\"], [0.1111111111111111, \"#46039f\"], [0.2222222222222222, \"#7201a8\"], [0.3333333333333333, \"#9c179e\"], [0.4444444444444444, \"#bd3786\"], [0.5555555555555556, \"#d8576b\"], [0.6666666666666666, \"#ed7953\"], [0.7777777777777778, \"#fb9f3a\"], [0.8888888888888888, \"#fdca26\"], [1.0, \"#f0f921\"]], \"sequentialminus\": [[0.0, \"#0d0887\"], [0.1111111111111111, \"#46039f\"], [0.2222222222222222, \"#7201a8\"], [0.3333333333333333, \"#9c179e\"], [0.4444444444444444, \"#bd3786\"], [0.5555555555555556, \"#d8576b\"], [0.6666666666666666, \"#ed7953\"], [0.7777777777777778, \"#fb9f3a\"], [0.8888888888888888, \"#fdca26\"], [1.0, \"#f0f921\"]]}, \"colorway\": [\"#636efa\", \"#EF553B\", \"#00cc96\", \"#ab63fa\", \"#FFA15A\", \"#19d3f3\", \"#FF6692\", \"#B6E880\", \"#FF97FF\", \"#FECB52\"], \"font\": {\"color\": \"#2a3f5f\"}, \"geo\": {\"bgcolor\": \"white\", \"lakecolor\": \"white\", \"landcolor\": \"#E5ECF6\", \"showlakes\": true, \"showland\": true, \"subunitcolor\": \"white\"}, \"hoverlabel\": {\"align\": \"left\"}, \"hovermode\": \"closest\", \"mapbox\": {\"style\": \"light\"}, \"paper_bgcolor\": \"white\", \"plot_bgcolor\": \"#E5ECF6\", \"polar\": {\"angularaxis\": {\"gridcolor\": \"white\", \"linecolor\": \"white\", \"ticks\": \"\"}, \"bgcolor\": \"#E5ECF6\", \"radialaxis\": {\"gridcolor\": \"white\", \"linecolor\": \"white\", \"ticks\": \"\"}}, \"scene\": {\"xaxis\": {\"backgroundcolor\": \"#E5ECF6\", \"gridcolor\": \"white\", \"gridwidth\": 2, \"linecolor\": \"white\", \"showbackground\": true, \"ticks\": \"\", \"zerolinecolor\": \"white\"}, \"yaxis\": {\"backgroundcolor\": \"#E5ECF6\", \"gridcolor\": \"white\", \"gridwidth\": 2, \"linecolor\": \"white\", \"showbackground\": true, \"ticks\": \"\", \"zerolinecolor\": \"white\"}, \"zaxis\": {\"backgroundcolor\": \"#E5ECF6\", \"gridcolor\": \"white\", \"gridwidth\": 2, \"linecolor\": \"white\", \"showbackground\": true, \"ticks\": \"\", \"zerolinecolor\": \"white\"}}, \"shapedefaults\": {\"line\": {\"color\": \"#2a3f5f\"}}, \"ternary\": {\"aaxis\": {\"gridcolor\": \"white\", \"linecolor\": \"white\", \"ticks\": \"\"}, \"baxis\": {\"gridcolor\": \"white\", \"linecolor\": \"white\", \"ticks\": \"\"}, \"bgcolor\": \"#E5ECF6\", \"caxis\": {\"gridcolor\": \"white\", \"linecolor\": \"white\", \"ticks\": \"\"}}, \"title\": {\"x\": 0.05}, \"xaxis\": {\"automargin\": true, \"gridcolor\": \"white\", \"linecolor\": \"white\", \"ticks\": \"\", \"title\": {\"standoff\": 15}, \"zerolinecolor\": \"white\", \"zerolinewidth\": 2}, \"yaxis\": {\"automargin\": true, \"gridcolor\": \"white\", \"linecolor\": \"white\", \"ticks\": \"\", \"title\": {\"standoff\": 15}, \"zerolinecolor\": \"white\", \"zerolinewidth\": 2}}}, \"title\": {\"text\": \"POS Clients Churn\"}},\n",
       "                        {\"responsive\": true}\n",
       "                    ).then(function(){\n",
       "                            \n",
       "var gd = document.getElementById('052ac9bc-5c43-46df-b409-2e4336c4fd18');\n",
       "var x = new MutationObserver(function (mutations, observer) {{\n",
       "        var display = window.getComputedStyle(gd).display;\n",
       "        if (!display || display === 'none') {{\n",
       "            console.log([gd, 'removed!']);\n",
       "            Plotly.purge(gd);\n",
       "            observer.disconnect();\n",
       "        }}\n",
       "}});\n",
       "\n",
       "// Listen for the removal of the full notebook cells\n",
       "var notebookContainer = gd.closest('#notebook-container');\n",
       "if (notebookContainer) {{\n",
       "    x.observe(notebookContainer, {childList: true});\n",
       "}}\n",
       "\n",
       "// Listen for the clearing of the current output cell\n",
       "var outputEl = gd.closest('.output');\n",
       "if (outputEl) {{\n",
       "    x.observe(outputEl, {childList: true});\n",
       "}}\n",
       "\n",
       "                        })\n",
       "                };\n",
       "                });\n",
       "            </script>\n",
       "        </div>"
      ]
     },
     "metadata": {},
     "output_type": "display_data"
    }
   ],
   "source": [
    "# Passing labels and values\n",
    "lab = churn[\"churned\"].value_counts().keys().tolist()\n",
    "val = churn[\"churned\"].value_counts().values.tolist()\n",
    "\n",
    "trace = go.Pie(labels = lab ,\n",
    "               values = val ,\n",
    "               marker = dict(colors =  [ 'royalblue' ,'lime'],\n",
    "                             line = dict(color = \"white\",\n",
    "                                         width =  0.3)\n",
    "                            ),\n",
    "               rotation = 90,\n",
    "               hoverinfo = \"label+value+text\",\n",
    "               hole = .2\n",
    "              )\n",
    "layout = go.Layout(dict(title = \"POS Clients Churn\",\n",
    "                        plot_bgcolor  = \"rgb(243,243,243)\",\n",
    "                        paper_bgcolor = \"rgb(243,243,243)\",\n",
    "                       )\n",
    "                  )\n",
    "\n",
    "data = [trace]\n",
    "fig = go.Figure(data = data,layout = layout)\n",
    "py.iplot(fig)"
   ]
  },
  {
   "cell_type": "markdown",
   "metadata": {
    "_uuid": "97abad736612188cb7b3775c532930a6c4acf922"
   },
   "source": [
    "\n",
    "**47.2% Churned,\n",
    "52.8% were retained**\n",
    "This is a loss over a certain time yet there is no clear factor for churning maybe it is the nature of the business better be alert. but also it gives hope because the default test dataset is always 25% which will help to punish gradually."
   ]
  },
  {
   "cell_type": "markdown",
   "metadata": {
    "_uuid": "5bc77c2f5c97332e131c1e6e4ecfda30e4b845f9"
   },
   "source": [
    "**Head to Head attributes relations**\n",
    "\n",
    "Categorical attributes and Continuous attributes on impacting Churned, here is not about the counts but a specifically churned and unchurned vs the service. "
   ]
  },
  {
   "cell_type": "code",
   "execution_count": 18,
   "metadata": {
    "_uuid": "39088ba7ff43c1f6da631ebfee91a8e099073ae2"
   },
   "outputs": [
    {
     "data": {
      "text/plain": [
       "Text(0, 0.5, 'count')"
      ]
     },
     "execution_count": 18,
     "metadata": {},
     "output_type": "execute_result"
    },
    {
     "data": {
      "image/png": "[encoded data removed]",
      "text/plain": [
       "<Figure size 1080x576 with 4 Axes>"
      ]
     },
     "metadata": {
      "needs_background": "light"
     },
     "output_type": "display_data"
    }
   ],
   "source": [
    "#Categorical attirbutes churn rate\n",
    "fig, axs = plt.subplots(2, 2, figsize=(15, 8))\n",
    "sns.countplot(x= churn.Address, hue = 'churned' ,data=churn, ax =axs[0][0])\n",
    "sns.countplot(x=churn.BusinessType, hue = 'churned' ,data=churn, ax=axs[1][0])\n",
    "sns.countplot(x=churn.HasMB, hue = 'churned' ,data=churn, ax=axs[0][1])\n",
    "sns.countplot(x=churn.HasOtherAcc, hue = 'churned' ,data=churn, ax=axs[1][1])\n",
    "plt.ylabel('count')\n"
   ]
  },
  {
   "cell_type": "markdown",
   "metadata": {
    "_uuid": "237a75d50ddc06983b51b6612d4c17dee5d1f59c"
   },
   "source": [
    "\n",
    "What does Categorical attributes Highlights:\n",
    "\n",
    "* Address location can determine the success of your business and can be a great tool to know how to play with your market as Ajah show a huge number of customers with high churn, while others shows reasonable retention.\n",
    "\n",
    "* Apparently it is possible that customers who use the mobile banking service and has other account type in the same bank have low churn level\n",
    "\n",
    "* Enterprise businesses (large scale) have less churn than other business types; a promotional deal to consider other business types to improve retention\n",
    "\n",
    "*  Clients who use the bank's mobile banking service churn lesser while there's no visual difference for those who have other bank account with the bank"
   ]
  },
  {
   "cell_type": "markdown",
   "metadata": {
    "_uuid": "3cbfe7b3d9dbe61b59d831b85915bc998c12c943"
   },
   "source": [
    "* **Continous attributes churn rate**\n",
    "\n",
    "For continuous attribute i will have to normalize its values in order to compare its churn it won't be possible to plot Balance and age in the same plot yet they have very different figures."
   ]
  },
  {
   "cell_type": "code",
   "execution_count": 19,
   "metadata": {
    "_uuid": "f516cdffa1500b977dcf3d8f17626cf1dd95c4eb"
   },
   "outputs": [
    {
     "data": {
      "text/plain": [
       "<matplotlib.axes._subplots.AxesSubplot at 0xd32223e6d8>"
      ]
     },
     "execution_count": 19,
     "metadata": {},
     "output_type": "execute_result"
    },
    {
     "data": {
      "image/png": "[encoded data removed]",
      "text/plain": [
       "<Figure size 1080x576 with 4 Axes>"
      ]
     },
     "metadata": {
      "needs_background": "light"
     },
     "output_type": "display_data"
    }
   ],
   "source": [
    "fig, axarr = plt.subplots(2, 2, figsize=(15, 8))\n",
    "sns.boxplot(y='Balance',x = 'churned', hue = 'churned',data = churn, ax=axarr[0][0])\n",
    "sns.boxplot(y='AverageTrans',x = 'churned', hue = 'churned',data = churn , ax=axarr[0][1])\n",
    "sns.boxplot(y='Tenure',x = 'churned', hue = 'churned',data = churn, ax=axarr[1][0])\n",
    "sns.boxplot(y='BusinessAge',x = 'churned', hue = 'churned',data = churn, ax=axarr[1][1])\n",
    "#sns.boxplot(y='Address',x = 'churned', hue = 'churned',data = churn, ax=axarr[2][0])\n",
    "#sns.boxplot(y='BusinessType',x = 'churned', hue = 'churned',data = churn, ax=axarr[2][1])"
   ]
  },
  {
   "cell_type": "markdown",
   "metadata": {
    "_uuid": "5bbc7205bddf9c5cc9cb5b005993003847fa56b5"
   },
   "source": [
    " As seen before the mean and correlation maps outcomes relate to these continuous results. but they are more detailed in terms of churned and unchurned distribution with estimated numbers .\n",
    "\n",
    "Over all conclusion is that all attributes have its impact to the performance for instance Balance and Average Transaction are functions of Tenure(that is the number of years your business has been using POS with the bank) the more you get older the more the relation of a customer and a bank become stronger as sign of loyalty.\n"
   ]
  },
  {
   "cell_type": "markdown",
   "metadata": {
    "_uuid": "db81917309f8d887b3b915fa54183268e39c5f1d"
   },
   "source": [
    "**Feature Engineering and Preparation**"
   ]
  },
  {
   "cell_type": "markdown",
   "metadata": {
    "_uuid": "6815e1088098ec9062d8b197999eb5b92eaea619"
   },
   "source": [
    "We are going to create new features from what we have and based on the relationship of attributes and prepare the existing ones to be ready to predict our next client possibility to churn and these stage is normally standardize head to head attributes as decided, for balance and Average Transaction this is quantitative relation then we will find its ratio\n",
    "\n",
    "Note that df dataframe is been used because categorical attributes was converted  to dummy variables in other to achieve an excellent process.\n"
   ]
  },
  {
   "cell_type": "code",
   "execution_count": 20,
   "metadata": {
    "_uuid": "c9b68bd9169714147e251b75bf7abd7c61834cc4"
   },
   "outputs": [
    {
     "data": {
      "text/html": [
       "<div>\n",
       "<style scoped>\n",
       "    .dataframe tbody tr th:only-of-type {\n",
       "        vertical-align: middle;\n",
       "    }\n",
       "\n",
       "    .dataframe tbody tr th {\n",
       "        vertical-align: top;\n",
       "    }\n",
       "\n",
       "    .dataframe thead th {\n",
       "        text-align: right;\n",
       "    }\n",
       "</style>\n",
       "<table border=\"1\" class=\"dataframe\">\n",
       "  <thead>\n",
       "    <tr style=\"text-align: right;\">\n",
       "      <th></th>\n",
       "      <th>Tenure</th>\n",
       "      <th>BusinessAge</th>\n",
       "      <th>Balance</th>\n",
       "      <th>HasMB</th>\n",
       "      <th>AverageTrans</th>\n",
       "      <th>HasOtherAcc</th>\n",
       "      <th>churned</th>\n",
       "      <th>Address_Ajah</th>\n",
       "      <th>Address_Ikeja</th>\n",
       "      <th>Address_Lekki</th>\n",
       "      <th>BusinessType_Enterprise</th>\n",
       "      <th>BusinessType_Individual</th>\n",
       "      <th>BusinessType_coperative</th>\n",
       "      <th>BalanceAverageTransRatio</th>\n",
       "      <th>TenureOverBusinessAge</th>\n",
       "      <th>AverageTransOverBusinessAge</th>\n",
       "    </tr>\n",
       "  </thead>\n",
       "  <tbody>\n",
       "    <tr>\n",
       "      <th>0</th>\n",
       "      <td>2</td>\n",
       "      <td>42</td>\n",
       "      <td>20000.0</td>\n",
       "      <td>1</td>\n",
       "      <td>119346.88</td>\n",
       "      <td>1</td>\n",
       "      <td>1</td>\n",
       "      <td>0</td>\n",
       "      <td>1</td>\n",
       "      <td>0</td>\n",
       "      <td>1</td>\n",
       "      <td>0</td>\n",
       "      <td>0</td>\n",
       "      <td>0.167579</td>\n",
       "      <td>0.047619</td>\n",
       "      <td>2841.592381</td>\n",
       "    </tr>\n",
       "    <tr>\n",
       "      <th>1</th>\n",
       "      <td>8</td>\n",
       "      <td>41</td>\n",
       "      <td>50000000.0</td>\n",
       "      <td>0</td>\n",
       "      <td>73322.00</td>\n",
       "      <td>1</td>\n",
       "      <td>0</td>\n",
       "      <td>0</td>\n",
       "      <td>1</td>\n",
       "      <td>0</td>\n",
       "      <td>1</td>\n",
       "      <td>0</td>\n",
       "      <td>0</td>\n",
       "      <td>681.923570</td>\n",
       "      <td>0.195122</td>\n",
       "      <td>1788.341463</td>\n",
       "    </tr>\n",
       "    <tr>\n",
       "      <th>2</th>\n",
       "      <td>5</td>\n",
       "      <td>42</td>\n",
       "      <td>3000000.0</td>\n",
       "      <td>1</td>\n",
       "      <td>113677.53</td>\n",
       "      <td>0</td>\n",
       "      <td>0</td>\n",
       "      <td>0</td>\n",
       "      <td>1</td>\n",
       "      <td>0</td>\n",
       "      <td>0</td>\n",
       "      <td>0</td>\n",
       "      <td>1</td>\n",
       "      <td>26.390440</td>\n",
       "      <td>0.119048</td>\n",
       "      <td>2706.607857</td>\n",
       "    </tr>\n",
       "    <tr>\n",
       "      <th>3</th>\n",
       "      <td>2</td>\n",
       "      <td>39</td>\n",
       "      <td>30000.0</td>\n",
       "      <td>0</td>\n",
       "      <td>124607.70</td>\n",
       "      <td>0</td>\n",
       "      <td>1</td>\n",
       "      <td>0</td>\n",
       "      <td>1</td>\n",
       "      <td>0</td>\n",
       "      <td>0</td>\n",
       "      <td>1</td>\n",
       "      <td>0</td>\n",
       "      <td>0.240756</td>\n",
       "      <td>0.051282</td>\n",
       "      <td>3195.069231</td>\n",
       "    </tr>\n",
       "    <tr>\n",
       "      <th>4</th>\n",
       "      <td>7</td>\n",
       "      <td>43</td>\n",
       "      <td>50000000.0</td>\n",
       "      <td>1</td>\n",
       "      <td>11276.48</td>\n",
       "      <td>1</td>\n",
       "      <td>0</td>\n",
       "      <td>0</td>\n",
       "      <td>1</td>\n",
       "      <td>0</td>\n",
       "      <td>1</td>\n",
       "      <td>0</td>\n",
       "      <td>0</td>\n",
       "      <td>4434.007775</td>\n",
       "      <td>0.162791</td>\n",
       "      <td>262.243721</td>\n",
       "    </tr>\n",
       "  </tbody>\n",
       "</table>\n",
       "</div>"
      ],
      "text/plain": [
       "   Tenure  BusinessAge     Balance  HasMB  AverageTrans  HasOtherAcc  churned  \\\n",
       "0       2           42     20000.0      1     119346.88            1        1   \n",
       "1       8           41  50000000.0      0      73322.00            1        0   \n",
       "2       5           42   3000000.0      1     113677.53            0        0   \n",
       "3       2           39     30000.0      0     124607.70            0        1   \n",
       "4       7           43  50000000.0      1      11276.48            1        0   \n",
       "\n",
       "   Address_Ajah  Address_Ikeja  Address_Lekki  BusinessType_Enterprise  \\\n",
       "0             0              1              0                        1   \n",
       "1             0              1              0                        1   \n",
       "2             0              1              0                        0   \n",
       "3             0              1              0                        0   \n",
       "4             0              1              0                        1   \n",
       "\n",
       "   BusinessType_Individual  BusinessType_coperative  BalanceAverageTransRatio  \\\n",
       "0                        0                        0                  0.167579   \n",
       "1                        0                        0                681.923570   \n",
       "2                        0                        1                 26.390440   \n",
       "3                        1                        0                  0.240756   \n",
       "4                        0                        0               4434.007775   \n",
       "\n",
       "   TenureOverBusinessAge  AverageTransOverBusinessAge  \n",
       "0               0.047619                  2841.592381  \n",
       "1               0.195122                  1788.341463  \n",
       "2               0.119048                  2706.607857  \n",
       "3               0.051282                  3195.069231  \n",
       "4               0.162791                   262.243721  "
      ]
     },
     "execution_count": 20,
     "metadata": {},
     "output_type": "execute_result"
    }
   ],
   "source": [
    "df['BalanceAverageTransRatio'] = df.Balance/(df.AverageTrans)\n",
    "df['TenureOverBusinessAge'] = df.Tenure/(df.BusinessAge)\n",
    "df['AverageTransOverBusinessAge'] = df.AverageTrans/(df.BusinessAge)\n",
    "df.head()\n"
   ]
  },
  {
   "cell_type": "code",
   "execution_count": 21,
   "metadata": {
    "_uuid": "5e6f357fd79527b25aca4c7c2ffc9df96cf70bf5"
   },
   "outputs": [
    {
     "data": {
      "text/html": [
       "<div>\n",
       "<style scoped>\n",
       "    .dataframe tbody tr th:only-of-type {\n",
       "        vertical-align: middle;\n",
       "    }\n",
       "\n",
       "    .dataframe tbody tr th {\n",
       "        vertical-align: top;\n",
       "    }\n",
       "\n",
       "    .dataframe thead th {\n",
       "        text-align: right;\n",
       "    }\n",
       "</style>\n",
       "<table border=\"1\" class=\"dataframe\">\n",
       "  <thead>\n",
       "    <tr style=\"text-align: right;\">\n",
       "      <th></th>\n",
       "      <th>Tenure</th>\n",
       "      <th>BusinessAge</th>\n",
       "      <th>Balance</th>\n",
       "      <th>HasMB</th>\n",
       "      <th>AverageTrans</th>\n",
       "      <th>HasOtherAcc</th>\n",
       "      <th>churned</th>\n",
       "      <th>Address_Ajah</th>\n",
       "      <th>Address_Ikeja</th>\n",
       "      <th>Address_Lekki</th>\n",
       "      <th>BusinessType_Enterprise</th>\n",
       "      <th>BusinessType_Individual</th>\n",
       "      <th>BusinessType_coperative</th>\n",
       "      <th>BalanceAverageTransRatio</th>\n",
       "      <th>TenureOverBusinessAge</th>\n",
       "      <th>AverageTransOverBusinessAge</th>\n",
       "    </tr>\n",
       "  </thead>\n",
       "  <tbody>\n",
       "    <tr>\n",
       "      <th>0</th>\n",
       "      <td>0.142857</td>\n",
       "      <td>0.375000</td>\n",
       "      <td>0.000000</td>\n",
       "      <td>1</td>\n",
       "      <td>0.596322</td>\n",
       "      <td>1</td>\n",
       "      <td>1</td>\n",
       "      <td>0</td>\n",
       "      <td>1</td>\n",
       "      <td>0</td>\n",
       "      <td>1</td>\n",
       "      <td>0</td>\n",
       "      <td>0</td>\n",
       "      <td>2.238996e-07</td>\n",
       "      <td>0.081305</td>\n",
       "      <td>0.325171</td>\n",
       "    </tr>\n",
       "    <tr>\n",
       "      <th>1</th>\n",
       "      <td>1.000000</td>\n",
       "      <td>0.359375</td>\n",
       "      <td>0.166611</td>\n",
       "      <td>0</td>\n",
       "      <td>0.365879</td>\n",
       "      <td>1</td>\n",
       "      <td>0</td>\n",
       "      <td>0</td>\n",
       "      <td>1</td>\n",
       "      <td>0</td>\n",
       "      <td>1</td>\n",
       "      <td>0</td>\n",
       "      <td>0</td>\n",
       "      <td>3.373009e-03</td>\n",
       "      <td>0.422790</td>\n",
       "      <td>0.204426</td>\n",
       "    </tr>\n",
       "    <tr>\n",
       "      <th>2</th>\n",
       "      <td>0.571429</td>\n",
       "      <td>0.375000</td>\n",
       "      <td>0.009934</td>\n",
       "      <td>1</td>\n",
       "      <td>0.567936</td>\n",
       "      <td>0</td>\n",
       "      <td>0</td>\n",
       "      <td>0</td>\n",
       "      <td>1</td>\n",
       "      <td>0</td>\n",
       "      <td>0</td>\n",
       "      <td>0</td>\n",
       "      <td>1</td>\n",
       "      <td>1.299537e-04</td>\n",
       "      <td>0.246670</td>\n",
       "      <td>0.309697</td>\n",
       "    </tr>\n",
       "    <tr>\n",
       "      <th>3</th>\n",
       "      <td>0.142857</td>\n",
       "      <td>0.328125</td>\n",
       "      <td>0.000033</td>\n",
       "      <td>0</td>\n",
       "      <td>0.622663</td>\n",
       "      <td>0</td>\n",
       "      <td>1</td>\n",
       "      <td>0</td>\n",
       "      <td>1</td>\n",
       "      <td>0</td>\n",
       "      <td>0</td>\n",
       "      <td>1</td>\n",
       "      <td>0</td>\n",
       "      <td>5.859203e-07</td>\n",
       "      <td>0.089785</td>\n",
       "      <td>0.365694</td>\n",
       "    </tr>\n",
       "    <tr>\n",
       "      <th>4</th>\n",
       "      <td>0.857143</td>\n",
       "      <td>0.390625</td>\n",
       "      <td>0.166611</td>\n",
       "      <td>1</td>\n",
       "      <td>0.055222</td>\n",
       "      <td>1</td>\n",
       "      <td>0</td>\n",
       "      <td>0</td>\n",
       "      <td>1</td>\n",
       "      <td>0</td>\n",
       "      <td>1</td>\n",
       "      <td>0</td>\n",
       "      <td>0</td>\n",
       "      <td>2.193533e-02</td>\n",
       "      <td>0.347940</td>\n",
       "      <td>0.029473</td>\n",
       "    </tr>\n",
       "  </tbody>\n",
       "</table>\n",
       "</div>"
      ],
      "text/plain": [
       "     Tenure  BusinessAge   Balance  HasMB  AverageTrans  HasOtherAcc  churned  \\\n",
       "0  0.142857     0.375000  0.000000      1      0.596322            1        1   \n",
       "1  1.000000     0.359375  0.166611      0      0.365879            1        0   \n",
       "2  0.571429     0.375000  0.009934      1      0.567936            0        0   \n",
       "3  0.142857     0.328125  0.000033      0      0.622663            0        1   \n",
       "4  0.857143     0.390625  0.166611      1      0.055222            1        0   \n",
       "\n",
       "   Address_Ajah  Address_Ikeja  Address_Lekki  BusinessType_Enterprise  \\\n",
       "0             0              1              0                        1   \n",
       "1             0              1              0                        1   \n",
       "2             0              1              0                        0   \n",
       "3             0              1              0                        0   \n",
       "4             0              1              0                        1   \n",
       "\n",
       "   BusinessType_Individual  BusinessType_coperative  BalanceAverageTransRatio  \\\n",
       "0                        0                        0              2.238996e-07   \n",
       "1                        0                        0              3.373009e-03   \n",
       "2                        0                        1              1.299537e-04   \n",
       "3                        1                        0              5.859203e-07   \n",
       "4                        0                        0              2.193533e-02   \n",
       "\n",
       "   TenureOverBusinessAge  AverageTransOverBusinessAge  \n",
       "0               0.081305                     0.325171  \n",
       "1               0.422790                     0.204426  \n",
       "2               0.246670                     0.309697  \n",
       "3               0.089785                     0.365694  \n",
       "4               0.347940                     0.029473  "
      ]
     },
     "execution_count": 21,
     "metadata": {},
     "output_type": "execute_result"
    }
   ],
   "source": [
    "con_v=['AverageTrans','BusinessAge','Tenure','Balance','BalanceAverageTransRatio','TenureOverBusinessAge','AverageTransOverBusinessAge']\n",
    "minVec = df[con_v].min().copy()\n",
    "maxVec = df[con_v].max().copy()\n",
    "df[con_v] = (df[con_v]-minVec)/(maxVec-minVec)\n",
    "df.head()"
   ]
  },
  {
   "cell_type": "markdown",
   "metadata": {
    "_uuid": "f5f3b58b6e244ebd3ccdfd070364d34b71795596"
   },
   "source": [
    "****Model fitting and selection****\n",
    "\n",
    "For the model fitting, I will try out the following\n",
    "\n",
    "* Logistic regression in the primal space and with different kernels\n",
    "* SVM Support Vector Machine\n"
   ]
  },
  {
   "cell_type": "markdown",
   "metadata": {
    "_uuid": "d59b08dd47ff1f1146fc906801c7d3b231c9f979"
   },
   "source": [
    "Our dataset have 47.2% on churned customers this means we will try to predict. Hence we will use train_split model which deliver 25% test set and 75% traning set.because it covers the churned figure which prevent biases inside the model itself."
   ]
  },
  {
   "cell_type": "code",
   "execution_count": 26,
   "metadata": {},
   "outputs": [
    {
     "data": {
      "text/html": [
       "<div>\n",
       "<style scoped>\n",
       "    .dataframe tbody tr th:only-of-type {\n",
       "        vertical-align: middle;\n",
       "    }\n",
       "\n",
       "    .dataframe tbody tr th {\n",
       "        vertical-align: top;\n",
       "    }\n",
       "\n",
       "    .dataframe thead th {\n",
       "        text-align: right;\n",
       "    }\n",
       "</style>\n",
       "<table border=\"1\" class=\"dataframe\">\n",
       "  <thead>\n",
       "    <tr style=\"text-align: right;\">\n",
       "      <th></th>\n",
       "      <th>Tenure</th>\n",
       "      <th>BusinessAge</th>\n",
       "      <th>Balance</th>\n",
       "      <th>HasMB</th>\n",
       "      <th>AverageTrans</th>\n",
       "      <th>HasOtherAcc</th>\n",
       "      <th>churned</th>\n",
       "      <th>Address_Ajah</th>\n",
       "      <th>Address_Ikeja</th>\n",
       "      <th>Address_Lekki</th>\n",
       "      <th>BusinessType_Enterprise</th>\n",
       "      <th>BusinessType_Individual</th>\n",
       "      <th>BusinessType_coperative</th>\n",
       "      <th>BalanceAverageTransRatio</th>\n",
       "      <th>TenureOverBusinessAge</th>\n",
       "      <th>AverageTransOverBusinessAge</th>\n",
       "    </tr>\n",
       "  </thead>\n",
       "  <tbody>\n",
       "    <tr>\n",
       "      <th>0</th>\n",
       "      <td>0.142857</td>\n",
       "      <td>0.375000</td>\n",
       "      <td>0.000000</td>\n",
       "      <td>1</td>\n",
       "      <td>0.596322</td>\n",
       "      <td>1</td>\n",
       "      <td>1</td>\n",
       "      <td>0</td>\n",
       "      <td>1</td>\n",
       "      <td>0</td>\n",
       "      <td>1</td>\n",
       "      <td>0</td>\n",
       "      <td>0</td>\n",
       "      <td>2.238996e-07</td>\n",
       "      <td>0.081305</td>\n",
       "      <td>0.325171</td>\n",
       "    </tr>\n",
       "    <tr>\n",
       "      <th>1</th>\n",
       "      <td>1.000000</td>\n",
       "      <td>0.359375</td>\n",
       "      <td>0.166611</td>\n",
       "      <td>-1</td>\n",
       "      <td>0.365879</td>\n",
       "      <td>1</td>\n",
       "      <td>0</td>\n",
       "      <td>0</td>\n",
       "      <td>1</td>\n",
       "      <td>0</td>\n",
       "      <td>1</td>\n",
       "      <td>0</td>\n",
       "      <td>0</td>\n",
       "      <td>3.373009e-03</td>\n",
       "      <td>0.422790</td>\n",
       "      <td>0.204426</td>\n",
       "    </tr>\n",
       "    <tr>\n",
       "      <th>2</th>\n",
       "      <td>0.571429</td>\n",
       "      <td>0.375000</td>\n",
       "      <td>0.009934</td>\n",
       "      <td>1</td>\n",
       "      <td>0.567936</td>\n",
       "      <td>-1</td>\n",
       "      <td>0</td>\n",
       "      <td>0</td>\n",
       "      <td>1</td>\n",
       "      <td>0</td>\n",
       "      <td>0</td>\n",
       "      <td>0</td>\n",
       "      <td>1</td>\n",
       "      <td>1.299537e-04</td>\n",
       "      <td>0.246670</td>\n",
       "      <td>0.309697</td>\n",
       "    </tr>\n",
       "    <tr>\n",
       "      <th>3</th>\n",
       "      <td>0.142857</td>\n",
       "      <td>0.328125</td>\n",
       "      <td>0.000033</td>\n",
       "      <td>-1</td>\n",
       "      <td>0.622663</td>\n",
       "      <td>-1</td>\n",
       "      <td>1</td>\n",
       "      <td>0</td>\n",
       "      <td>1</td>\n",
       "      <td>0</td>\n",
       "      <td>0</td>\n",
       "      <td>1</td>\n",
       "      <td>0</td>\n",
       "      <td>5.859203e-07</td>\n",
       "      <td>0.089785</td>\n",
       "      <td>0.365694</td>\n",
       "    </tr>\n",
       "    <tr>\n",
       "      <th>4</th>\n",
       "      <td>0.857143</td>\n",
       "      <td>0.390625</td>\n",
       "      <td>0.166611</td>\n",
       "      <td>1</td>\n",
       "      <td>0.055222</td>\n",
       "      <td>1</td>\n",
       "      <td>0</td>\n",
       "      <td>0</td>\n",
       "      <td>1</td>\n",
       "      <td>0</td>\n",
       "      <td>1</td>\n",
       "      <td>0</td>\n",
       "      <td>0</td>\n",
       "      <td>2.193533e-02</td>\n",
       "      <td>0.347940</td>\n",
       "      <td>0.029473</td>\n",
       "    </tr>\n",
       "  </tbody>\n",
       "</table>\n",
       "</div>"
      ],
      "text/plain": [
       "     Tenure  BusinessAge   Balance  HasMB  AverageTrans  HasOtherAcc  churned  \\\n",
       "0  0.142857     0.375000  0.000000      1      0.596322            1        1   \n",
       "1  1.000000     0.359375  0.166611     -1      0.365879            1        0   \n",
       "2  0.571429     0.375000  0.009934      1      0.567936           -1        0   \n",
       "3  0.142857     0.328125  0.000033     -1      0.622663           -1        1   \n",
       "4  0.857143     0.390625  0.166611      1      0.055222            1        0   \n",
       "\n",
       "   Address_Ajah  Address_Ikeja  Address_Lekki  BusinessType_Enterprise  \\\n",
       "0             0              1              0                        1   \n",
       "1             0              1              0                        1   \n",
       "2             0              1              0                        0   \n",
       "3             0              1              0                        0   \n",
       "4             0              1              0                        1   \n",
       "\n",
       "   BusinessType_Individual  BusinessType_coperative  BalanceAverageTransRatio  \\\n",
       "0                        0                        0              2.238996e-07   \n",
       "1                        0                        0              3.373009e-03   \n",
       "2                        0                        1              1.299537e-04   \n",
       "3                        1                        0              5.859203e-07   \n",
       "4                        0                        0              2.193533e-02   \n",
       "\n",
       "   TenureOverBusinessAge  AverageTransOverBusinessAge  \n",
       "0               0.081305                     0.325171  \n",
       "1               0.422790                     0.204426  \n",
       "2               0.246670                     0.309697  \n",
       "3               0.089785                     0.365694  \n",
       "4               0.347940                     0.029473  "
      ]
     },
     "execution_count": 26,
     "metadata": {},
     "output_type": "execute_result"
    }
   ],
   "source": [
    "'''For the one hot variables, we change 0 to -1 so that the models can capture a negative relation \n",
    "where the attribute in inapplicable instead of 0'''\n",
    "df.loc[df.HasMB == 0, 'HasMB'] = -1\n",
    "df.loc[df.HasOtherAcc == 0, 'HasOtherAcc'] = -1\n",
    "df.head()"
   ]
  },
  {
   "cell_type": "code",
   "execution_count": 29,
   "metadata": {},
   "outputs": [
    {
     "data": {
      "text/html": [
       "<div>\n",
       "<style scoped>\n",
       "    .dataframe tbody tr th:only-of-type {\n",
       "        vertical-align: middle;\n",
       "    }\n",
       "\n",
       "    .dataframe tbody tr th {\n",
       "        vertical-align: top;\n",
       "    }\n",
       "\n",
       "    .dataframe thead th {\n",
       "        text-align: right;\n",
       "    }\n",
       "</style>\n",
       "<table border=\"1\" class=\"dataframe\">\n",
       "  <thead>\n",
       "    <tr style=\"text-align: right;\">\n",
       "      <th></th>\n",
       "      <th>Tenure</th>\n",
       "      <th>BusinessAge</th>\n",
       "      <th>Balance</th>\n",
       "      <th>HasMB</th>\n",
       "      <th>AverageTrans</th>\n",
       "      <th>HasOtherAcc</th>\n",
       "      <th>churned</th>\n",
       "      <th>Address_Ajah</th>\n",
       "      <th>Address_Ikeja</th>\n",
       "      <th>Address_Lekki</th>\n",
       "      <th>BusinessType_Enterprise</th>\n",
       "      <th>BusinessType_Individual</th>\n",
       "      <th>BusinessType_coperative</th>\n",
       "      <th>BalanceAverageTransRatio</th>\n",
       "      <th>TenureOverBusinessAge</th>\n",
       "      <th>AverageTransOverBusinessAge</th>\n",
       "    </tr>\n",
       "  </thead>\n",
       "  <tbody>\n",
       "    <tr>\n",
       "      <th>0</th>\n",
       "      <td>0.142857</td>\n",
       "      <td>0.375000</td>\n",
       "      <td>0.000000</td>\n",
       "      <td>1</td>\n",
       "      <td>0.596322</td>\n",
       "      <td>1</td>\n",
       "      <td>1</td>\n",
       "      <td>0</td>\n",
       "      <td>1</td>\n",
       "      <td>0</td>\n",
       "      <td>1</td>\n",
       "      <td>0</td>\n",
       "      <td>0</td>\n",
       "      <td>2.238996e-07</td>\n",
       "      <td>0.081305</td>\n",
       "      <td>0.325171</td>\n",
       "    </tr>\n",
       "    <tr>\n",
       "      <th>1</th>\n",
       "      <td>1.000000</td>\n",
       "      <td>0.359375</td>\n",
       "      <td>0.166611</td>\n",
       "      <td>-1</td>\n",
       "      <td>0.365879</td>\n",
       "      <td>1</td>\n",
       "      <td>0</td>\n",
       "      <td>0</td>\n",
       "      <td>1</td>\n",
       "      <td>0</td>\n",
       "      <td>1</td>\n",
       "      <td>0</td>\n",
       "      <td>0</td>\n",
       "      <td>3.373009e-03</td>\n",
       "      <td>0.422790</td>\n",
       "      <td>0.204426</td>\n",
       "    </tr>\n",
       "    <tr>\n",
       "      <th>2</th>\n",
       "      <td>0.571429</td>\n",
       "      <td>0.375000</td>\n",
       "      <td>0.009934</td>\n",
       "      <td>1</td>\n",
       "      <td>0.567936</td>\n",
       "      <td>-1</td>\n",
       "      <td>0</td>\n",
       "      <td>0</td>\n",
       "      <td>1</td>\n",
       "      <td>0</td>\n",
       "      <td>0</td>\n",
       "      <td>0</td>\n",
       "      <td>1</td>\n",
       "      <td>1.299537e-04</td>\n",
       "      <td>0.246670</td>\n",
       "      <td>0.309697</td>\n",
       "    </tr>\n",
       "    <tr>\n",
       "      <th>3</th>\n",
       "      <td>0.142857</td>\n",
       "      <td>0.328125</td>\n",
       "      <td>0.000033</td>\n",
       "      <td>-1</td>\n",
       "      <td>0.622663</td>\n",
       "      <td>-1</td>\n",
       "      <td>1</td>\n",
       "      <td>0</td>\n",
       "      <td>1</td>\n",
       "      <td>0</td>\n",
       "      <td>0</td>\n",
       "      <td>1</td>\n",
       "      <td>0</td>\n",
       "      <td>5.859203e-07</td>\n",
       "      <td>0.089785</td>\n",
       "      <td>0.365694</td>\n",
       "    </tr>\n",
       "    <tr>\n",
       "      <th>4</th>\n",
       "      <td>0.857143</td>\n",
       "      <td>0.390625</td>\n",
       "      <td>0.166611</td>\n",
       "      <td>1</td>\n",
       "      <td>0.055222</td>\n",
       "      <td>1</td>\n",
       "      <td>0</td>\n",
       "      <td>0</td>\n",
       "      <td>1</td>\n",
       "      <td>0</td>\n",
       "      <td>1</td>\n",
       "      <td>0</td>\n",
       "      <td>0</td>\n",
       "      <td>2.193533e-02</td>\n",
       "      <td>0.347940</td>\n",
       "      <td>0.029473</td>\n",
       "    </tr>\n",
       "  </tbody>\n",
       "</table>\n",
       "</div>"
      ],
      "text/plain": [
       "     Tenure  BusinessAge   Balance  HasMB  AverageTrans  HasOtherAcc  churned  \\\n",
       "0  0.142857     0.375000  0.000000      1      0.596322            1        1   \n",
       "1  1.000000     0.359375  0.166611     -1      0.365879            1        0   \n",
       "2  0.571429     0.375000  0.009934      1      0.567936           -1        0   \n",
       "3  0.142857     0.328125  0.000033     -1      0.622663           -1        1   \n",
       "4  0.857143     0.390625  0.166611      1      0.055222            1        0   \n",
       "\n",
       "   Address_Ajah  Address_Ikeja  Address_Lekki  BusinessType_Enterprise  \\\n",
       "0             0              1              0                        1   \n",
       "1             0              1              0                        1   \n",
       "2             0              1              0                        0   \n",
       "3             0              1              0                        0   \n",
       "4             0              1              0                        1   \n",
       "\n",
       "   BusinessType_Individual  BusinessType_coperative  BalanceAverageTransRatio  \\\n",
       "0                        0                        0              2.238996e-07   \n",
       "1                        0                        0              3.373009e-03   \n",
       "2                        0                        1              1.299537e-04   \n",
       "3                        1                        0              5.859203e-07   \n",
       "4                        0                        0              2.193533e-02   \n",
       "\n",
       "   TenureOverBusinessAge  AverageTransOverBusinessAge  \n",
       "0               0.081305                     0.325171  \n",
       "1               0.422790                     0.204426  \n",
       "2               0.246670                     0.309697  \n",
       "3               0.089785                     0.365694  \n",
       "4               0.347940                     0.029473  "
      ]
     },
     "execution_count": 29,
     "metadata": {},
     "output_type": "execute_result"
    }
   ],
   "source": [
    "# One hot encode the categorical variables\n",
    "lst = ['BusinessType_Enterprise','BusinessType_Individual','BusinessType_coperative','Address_Ajah',\n",
    "      'Address_Ikeja','Address_Lekki']\n",
    "remove = list()\n",
    "for i in lst:\n",
    "    if (df[i].dtype == np.str or df[i].dtype == np.object):\n",
    "        for j in df_train[i].unique():\n",
    "            df[i+'_'+j] = np.where(df[i] == j,1,-1)\n",
    "        remove.append(i)\n",
    "df = df.drop(remove, axis=1)\n",
    "df.head()"
   ]
  },
  {
   "cell_type": "code",
   "execution_count": 30,
   "metadata": {
    "_uuid": "c493e5103f7e77516bbc98b4c0b2fdee6700a7c3"
   },
   "outputs": [],
   "source": [
    "# Create Train & Test Data\n",
    "from sklearn.model_selection import train_test_split\n",
    "y = df['churned'].values\n",
    "x = df.drop(columns = ['churned'])\n",
    "x_train, x_test, y_train, y_test = train_test_split(x, y,random_state=0)"
   ]
  },
  {
   "cell_type": "code",
   "execution_count": 31,
   "metadata": {},
   "outputs": [
    {
     "name": "stdout",
     "output_type": "stream",
     "text": [
      "Collecting xgboost\n",
      "  Downloading https://files.pythonhosted.org/packages/c9/73/884e2d50ba8fc95bcb92c47910a8fbb8c80627f53a76250080c780c91185/xgboost-1.0.1-py3-none-win_amd64.whl (24.6MB)\n",
      "Requirement already satisfied: scipy in c:\\users\\omotayo\\appdata\\local\\programs\\python\\python37\\lib\\site-packages (from xgboost) (1.4.1)\n",
      "Requirement already satisfied: numpy in c:\\users\\omotayo\\appdata\\local\\programs\\python\\python37\\lib\\site-packages (from xgboost) (1.18.1)\n",
      "Installing collected packages: xgboost\n",
      "Successfully installed xgboost-1.0.1\n",
      "Note: you may need to restart the kernel to use updated packages.\n"
     ]
    },
    {
     "name": "stderr",
     "output_type": "stream",
     "text": [
      "WARNING: You are using pip version 19.3.1; however, version 20.0.2 is available.\n",
      "You should consider upgrading via the 'python -m pip install --upgrade pip' command.\n"
     ]
    }
   ],
   "source": [
    "pip install xgboost"
   ]
  },
  {
   "cell_type": "code",
   "execution_count": 32,
   "metadata": {},
   "outputs": [],
   "source": [
    "# Support functions\n",
    "from sklearn.preprocessing import PolynomialFeatures\n",
    "from sklearn.model_selection import cross_val_score\n",
    "from sklearn.model_selection import GridSearchCV\n",
    "from scipy.stats import uniform\n",
    "\n",
    "# Fit models\n",
    "from sklearn.linear_model import LogisticRegression\n",
    "from sklearn.svm import SVC\n",
    "#from sklearn.ensemble import RandomForestClassifier\n",
    "from xgboost import XGBClassifier\n",
    "\n",
    "# Scoring functions\n",
    "from sklearn.metrics import accuracy_score\n",
    "from sklearn.metrics import classification_report\n",
    "from sklearn.metrics import roc_auc_score\n",
    "from sklearn.metrics import roc_curve"
   ]
  },
  {
   "cell_type": "markdown",
   "metadata": {
    "_uuid": "8e554f6ce6c89cccf2015638c49a3b2c9a0d9599"
   },
   "source": [
    "\n",
    "**Logistic Regression**"
   ]
  },
  {
   "cell_type": "code",
   "execution_count": 35,
   "metadata": {
    "_uuid": "b4b85db419026c58210f4b58c3b7713e779b4b19"
   },
   "outputs": [],
   "source": [
    "# Function to give best model score and parameters\n",
    "def best_model(model):\n",
    "    print(model.best_score_)    \n",
    "    print(model.best_params_)\n",
    "    print(model.best_estimator_)\n",
    "def get_auc_scores(y_actual, method,method2):\n",
    "    auc_score = roc_auc_score(y_actual, method); \n",
    "    fpr_df, tpr_df, _ = roc_curve(y_actual, method2); \n",
    "    return (auc_score, fpr_df, tpr_df)"
   ]
  },
  {
   "cell_type": "code",
   "execution_count": 38,
   "metadata": {
    "_uuid": "c07555cef38a13ae0c59fb58a5cc7462d5b0662a"
   },
   "outputs": [
    {
     "name": "stdout",
     "output_type": "stream",
     "text": [
      "0.8979591836734694\n"
     ]
    }
   ],
   "source": [
    "# Running logistic regression model\n",
    "from sklearn.linear_model import LogisticRegression\n",
    "from sklearn import metrics\n",
    "model = LogisticRegression()\n",
    "result = model.fit(x_train, y_train)\n",
    "prediction_test = model.predict(x_test)\n",
    "print (metrics.accuracy_score(y_test, prediction_test))# Print the prediction accuracy"
   ]
  },
  {
   "cell_type": "code",
   "execution_count": 40,
   "metadata": {
    "_uuid": "f9d6b7e7ddca5e2af0b14ace8a73071c127d2cbf"
   },
   "outputs": [
    {
     "data": {
      "text/plain": [
       "BusinessType_coperative        1.549651\n",
       "AverageTransOverBusinessAge    0.471943\n",
       "Address_Lekki                  0.312080\n",
       "Address_Ajah                   0.169825\n",
       "HasMB                         -0.052343\n",
       "HasOtherAcc                   -0.059627\n",
       "BusinessType_Individual       -0.311846\n",
       "BalanceAverageTransRatio      -0.382768\n",
       "Address_Ikeja                 -0.479366\n",
       "BusinessAge                   -0.495404\n",
       "AverageTrans                  -0.683825\n",
       "BusinessType_Enterprise       -1.235265\n",
       "TenureOverBusinessAge         -1.950300\n",
       "Balance                       -3.804646\n",
       "Tenure                        -6.098221\n",
       "dtype: float64"
      ]
     },
     "execution_count": 40,
     "metadata": {},
     "output_type": "execute_result"
    },
    {
     "data": {
      "image/png": "[encoded data removed]",
      "text/plain": [
       "<Figure size 432x288 with 1 Axes>"
      ]
     },
     "metadata": {
      "needs_background": "light"
     },
     "output_type": "display_data"
    }
   ],
   "source": [
    "# getting the weights of all the variables on regression model\n",
    "weights = pd.Series(model.coef_[0],\n",
    "                 index=x.columns.values)\n",
    "weights.sort_values()[-13:].plot(kind = 'barh')\n",
    "weights.sort_values(ascending = False)\n"
   ]
  },
  {
   "cell_type": "code",
   "execution_count": 39,
   "metadata": {},
   "outputs": [
    {
     "name": "stdout",
     "output_type": "stream",
     "text": [
      "0.869310863031344\n",
      "{'C': 0.1, 'fit_intercept': True, 'intercept_scaling': 1, 'max_iter': 250, 'penalty': 'l2', 'tol': 1e-05}\n",
      "LogisticRegression(C=0.1, class_weight=None, dual=False, fit_intercept=True,\n",
      "                   intercept_scaling=1, l1_ratio=None, max_iter=250,\n",
      "                   multi_class='auto', n_jobs=None, penalty='l2',\n",
      "                   random_state=None, solver='lbfgs', tol=1e-05, verbose=0,\n",
      "                   warm_start=False)\n"
     ]
    }
   ],
   "source": [
    "# Fit primal logistic regression\n",
    "param_grid = {'C': [0.1,0.5,1,10,50,100], 'max_iter': [250], 'fit_intercept':[True],'intercept_scaling':[1],\n",
    "              'penalty':['l2'], 'tol':[0.00001,0.0001,0.000001]}\n",
    "log_primal_Grid = GridSearchCV(LogisticRegression(solver='lbfgs'),param_grid, cv=10, refit=True, verbose=0)\n",
    "log_primal_Grid.fit(df.loc[:, df.columns != 'churned'],df.churned)\n",
    "best_model(log_primal_Grid)"
   ]
  },
  {
   "cell_type": "code",
   "execution_count": 41,
   "metadata": {},
   "outputs": [
    {
     "name": "stdout",
     "output_type": "stream",
     "text": [
      "0.8583700970562285\n",
      "{'C': 0.1, 'fit_intercept': True, 'intercept_scaling': 1, 'max_iter': 300, 'penalty': 'l2', 'tol': 0.0001}\n",
      "LogisticRegression(C=0.1, class_weight=None, dual=False, fit_intercept=True,\n",
      "                   intercept_scaling=1, l1_ratio=None, max_iter=300,\n",
      "                   multi_class='auto', n_jobs=None, penalty='l2',\n",
      "                   random_state=None, solver='liblinear', tol=0.0001, verbose=0,\n",
      "                   warm_start=False)\n"
     ]
    }
   ],
   "source": [
    "# Fit logistic regression with degree 2 polynomial kernel\n",
    "param_grid = {'C': [0.1,10,50], 'max_iter': [300,500], 'fit_intercept':[True],'intercept_scaling':[1],'penalty':['l2'],\n",
    "              'tol':[0.0001,0.000001]}\n",
    "poly2 = PolynomialFeatures(degree=2)\n",
    "df_train_pol2 = poly2.fit_transform(df.loc[:, df.columns != 'churned'])\n",
    "log_pol2_Grid = GridSearchCV(LogisticRegression(solver = 'liblinear'),param_grid, cv=5, refit=True, verbose=0)\n",
    "log_pol2_Grid.fit(df_train_pol2,df.churned)\n",
    "best_model(log_pol2_Grid)"
   ]
  },
  {
   "cell_type": "markdown",
   "metadata": {
    "_uuid": "d5df7e60999eef13497aa9ec6f3a6fdb15de706f"
   },
   "source": [
    "**Support Vecor Machine (SVM)**"
   ]
  },
  {
   "cell_type": "code",
   "execution_count": 42,
   "metadata": {
    "_uuid": "7aae13572a48fab4ec18e2e071e9891091cce21b"
   },
   "outputs": [
    {
     "data": {
      "text/plain": [
       "0.9183673469387755"
      ]
     },
     "execution_count": 42,
     "metadata": {},
     "output_type": "execute_result"
    }
   ],
   "source": [
    "from sklearn.svm import SVC\n",
    "from sklearn.metrics import classification_report, confusion_matrix\n",
    "model.svm = SVC(kernel='linear') \n",
    "model.svm.fit(x_train,y_train)\n",
    "preds = model.svm.predict(x_test)\n",
    "metrics.accuracy_score(y_test, preds)# Print the prediction accuracy"
   ]
  },
  {
   "cell_type": "code",
   "execution_count": 43,
   "metadata": {
    "_uuid": "d7061bef69fb0298bd689a61e8ae104d5a02a625"
   },
   "outputs": [
    {
     "name": "stdout",
     "output_type": "stream",
     "text": [
      "KNeighborsClassifier\n",
      "0.91 \n",
      " - - - - -  \n",
      "\n"
     ]
    }
   ],
   "source": [
    "from sklearn.neighbors import KNeighborsClassifier\n",
    "classifiers = [\n",
    "    KNeighborsClassifier(5),    \n",
    "]\n",
    "# iterate over classifiers\n",
    "for item in classifiers:\n",
    "    classifier_name = ((str(item)[:(str(item).find(\"(\"))]))\n",
    "    print (classifier_name)\n",
    "    # Create classifier, train it and test it.\n",
    "    clf = item\n",
    "    clf.fit(x_train, y_train)\n",
    "    pred = clf.predict(x_test)\n",
    "    score = clf.score(x_test, y_test)\n",
    "    print (round(score,3),\"\\n\", \"- - - - - \", \"\\n\") # Print the prediction accuracy\n",
    "    \n"
   ]
  },
  {
   "cell_type": "code",
   "execution_count": 44,
   "metadata": {},
   "outputs": [
    {
     "name": "stdout",
     "output_type": "stream",
     "text": [
      "0.8554647011401589\n",
      "{'C': 150, 'gamma': 0.01, 'kernel': 'rbf', 'probability': True}\n",
      "SVC(C=150, break_ties=False, cache_size=200, class_weight=None, coef0=0.0,\n",
      "    decision_function_shape='ovr', degree=3, gamma=0.01, kernel='rbf',\n",
      "    max_iter=-1, probability=True, random_state=None, shrinking=True, tol=0.001,\n",
      "    verbose=False)\n"
     ]
    }
   ],
   "source": [
    "# Fit SVM with RBF Kernel\n",
    "param_grid = {'C': [0.5,100,150], 'gamma': [0.1,0.01,0.001],'probability':[True],'kernel': ['rbf']}\n",
    "SVM_grid = GridSearchCV(SVC(), param_grid, cv=3, refit=True, verbose=0)\n",
    "SVM_grid.fit(df.loc[:, df.columns != 'churned'],df.churned)\n",
    "best_model(SVM_grid)"
   ]
  },
  {
   "cell_type": "code",
   "execution_count": 45,
   "metadata": {},
   "outputs": [
    {
     "name": "stdout",
     "output_type": "stream",
     "text": [
      "0.868622595877001\n",
      "{'C': 0.5, 'degree': 2, 'gamma': 0.1, 'kernel': 'poly', 'probability': True}\n",
      "SVC(C=0.5, break_ties=False, cache_size=200, class_weight=None, coef0=0.0,\n",
      "    decision_function_shape='ovr', degree=2, gamma=0.1, kernel='poly',\n",
      "    max_iter=-1, probability=True, random_state=None, shrinking=True, tol=0.001,\n",
      "    verbose=False)\n"
     ]
    }
   ],
   "source": [
    "# Fit SVM with pol kernel\n",
    "param_grid = {'C': [0.5,1,10,50,100], 'gamma': [0.1,0.01,0.001],'probability':[True],'kernel': ['poly'],'degree':[2,3] }\n",
    "SVM_grid = GridSearchCV(SVC(), param_grid, cv=3, refit=True, verbose=0)\n",
    "SVM_grid.fit(df.loc[:, df.columns != 'churned'],df.churned)\n",
    "best_model(SVM_grid)"
   ]
  },
  {
   "cell_type": "markdown",
   "metadata": {
    "_uuid": "f1bae1f903b90deb88417b6943531361459fee87"
   },
   "source": [
    "**Fit best Models**"
   ]
  },
  {
   "cell_type": "code",
   "execution_count": 47,
   "metadata": {
    "_uuid": "fd6057d24888def99071c67544d044c37ae99239"
   },
   "outputs": [
    {
     "data": {
      "text/plain": [
       "LogisticRegression(C=100, class_weight=None, dual=False, fit_intercept=True,\n",
       "                   intercept_scaling=1, l1_ratio=None, max_iter=250,\n",
       "                   multi_class='auto', n_jobs=None, penalty='l2',\n",
       "                   random_state=None, solver='lbfgs', tol=1e-05, verbose=0,\n",
       "                   warm_start=False)"
      ]
     },
     "execution_count": 47,
     "metadata": {},
     "output_type": "execute_result"
    }
   ],
   "source": [
    "# Fit primal logistic regression\n",
    "log_primal = LogisticRegression(C=100, class_weight=None, dual=False, fit_intercept=True,intercept_scaling=1, max_iter=250, multi_class='auto',n_jobs=None, \n",
    "                                penalty='l2', random_state=None, solver='lbfgs',tol=1e-05, verbose=0, warm_start=False)\n",
    "log_primal.fit(df.loc[:, df.columns != 'churned'],df.churned)"
   ]
  },
  {
   "cell_type": "code",
   "execution_count": 50,
   "metadata": {
    "_uuid": "79aea3af590e11c23386e2806921882458963554"
   },
   "outputs": [
    {
     "data": {
      "text/plain": [
       "LogisticRegression(C=10, class_weight=None, dual=False, fit_intercept=True,\n",
       "                   intercept_scaling=1, l1_ratio=None, max_iter=300,\n",
       "                   multi_class='auto', n_jobs=None, penalty='l2',\n",
       "                   random_state=None, solver='liblinear', tol=0.0001, verbose=0,\n",
       "                   warm_start=False)"
      ]
     },
     "execution_count": 50,
     "metadata": {},
     "output_type": "execute_result"
    }
   ],
   "source": [
    "# Fit logistic regression with pol 2 kernel\n",
    "poly2 = PolynomialFeatures(degree=2)\n",
    "df_train_pol2 = poly2.fit_transform(df.loc[:, df.columns != 'churned'])\n",
    "log_pol2 = LogisticRegression(C=10, class_weight=None, dual=False, fit_intercept=True,intercept_scaling=1, max_iter=300, multi_class='auto', n_jobs=None, \n",
    "                              penalty='l2', random_state=None, solver='liblinear',tol=0.0001, verbose=0, warm_start=False)\n",
    "log_pol2.fit(df_train_pol2,df.churned)"
   ]
  },
  {
   "cell_type": "code",
   "execution_count": 52,
   "metadata": {
    "_uuid": "d371efa4c901a1ad2bef0cfac59e3e6c1d3fdf7e"
   },
   "outputs": [
    {
     "data": {
      "text/plain": [
       "SVC(C=100, break_ties=False, cache_size=200, class_weight=None, coef0=0.0,\n",
       "    decision_function_shape='ovr', degree=3, gamma=0.1, kernel='rbf',\n",
       "    max_iter=-1, probability=True, random_state=None, shrinking=True, tol=0.001,\n",
       "    verbose=False)"
      ]
     },
     "execution_count": 52,
     "metadata": {},
     "output_type": "execute_result"
    }
   ],
   "source": [
    "# Fit SVM with RBF Kernel\n",
    "SVM_RBF = SVC(C=100, cache_size=200, class_weight=None, coef0=0.0, decision_function_shape='ovr', degree=3, gamma=0.1, kernel='rbf', max_iter=-1, probability=True, \n",
    "              random_state=None, shrinking=True,tol=0.001, verbose=False)\n",
    "SVM_RBF.fit(df.loc[:, df.columns != 'churned'],df.churned)"
   ]
  },
  {
   "cell_type": "code",
   "execution_count": 53,
   "metadata": {},
   "outputs": [
    {
     "data": {
      "text/plain": [
       "SVC(C=100, break_ties=False, cache_size=200, class_weight=None, coef0=0.0,\n",
       "    decision_function_shape='ovr', degree=2, gamma=0.1, kernel='poly',\n",
       "    max_iter=-1, probability=True, random_state=None, shrinking=True, tol=0.001,\n",
       "    verbose=False)"
      ]
     },
     "execution_count": 53,
     "metadata": {},
     "output_type": "execute_result"
    }
   ],
   "source": [
    "# Fit SVM with Pol Kernel\n",
    "SVM_POL = SVC(C=100, cache_size=200, class_weight=None, coef0=0.0,  decision_function_shape='ovr', degree=2, gamma=0.1, kernel='poly',  max_iter=-1,\n",
    "              probability=True, random_state=None, shrinking=True, tol=0.001, verbose=False)\n",
    "SVM_POL.fit(df.loc[:, df.columns != 'churned'],df.churned)"
   ]
  },
  {
   "cell_type": "markdown",
   "metadata": {},
   "source": [
    "**Review best model fit accuracy : Keen interest is on the performance in predicting 1's (Clients who churn)**"
   ]
  },
  {
   "cell_type": "markdown",
   "metadata": {},
   "source": [
    "**Logistics Regression Predict**"
   ]
  },
  {
   "cell_type": "code",
   "execution_count": 55,
   "metadata": {},
   "outputs": [
    {
     "name": "stdout",
     "output_type": "stream",
     "text": [
      "              precision    recall  f1-score   support\n",
      "\n",
      "           0       0.87      0.89      0.88       723\n",
      "           1       0.88      0.85      0.86       646\n",
      "\n",
      "    accuracy                           0.87      1369\n",
      "   macro avg       0.87      0.87      0.87      1369\n",
      "weighted avg       0.87      0.87      0.87      1369\n",
      "\n"
     ]
    }
   ],
   "source": [
    "print(classification_report(df.churned, log_primal.predict(df.loc[:, df.columns != 'churned'])))"
   ]
  },
  {
   "cell_type": "code",
   "execution_count": 56,
   "metadata": {},
   "outputs": [
    {
     "name": "stdout",
     "output_type": "stream",
     "text": [
      "              precision    recall  f1-score   support\n",
      "\n",
      "           0       0.89      0.93      0.91       723\n",
      "           1       0.91      0.87      0.89       646\n",
      "\n",
      "    accuracy                           0.90      1369\n",
      "   macro avg       0.90      0.90      0.90      1369\n",
      "weighted avg       0.90      0.90      0.90      1369\n",
      "\n"
     ]
    }
   ],
   "source": [
    "print(classification_report(df.churned,  log_pol2.predict(df_train_pol2)))"
   ]
  },
  {
   "cell_type": "markdown",
   "metadata": {},
   "source": [
    "**SVM Predict**"
   ]
  },
  {
   "cell_type": "code",
   "execution_count": 57,
   "metadata": {},
   "outputs": [
    {
     "name": "stdout",
     "output_type": "stream",
     "text": [
      "              precision    recall  f1-score   support\n",
      "\n",
      "           0       0.90      0.94      0.92       723\n",
      "           1       0.93      0.88      0.90       646\n",
      "\n",
      "    accuracy                           0.91      1369\n",
      "   macro avg       0.91      0.91      0.91      1369\n",
      "weighted avg       0.91      0.91      0.91      1369\n",
      "\n"
     ]
    }
   ],
   "source": [
    "print(classification_report(df.churned,  SVM_RBF.predict(df.loc[:, df.columns != 'churned'])))"
   ]
  },
  {
   "cell_type": "code",
   "execution_count": 59,
   "metadata": {},
   "outputs": [
    {
     "name": "stdout",
     "output_type": "stream",
     "text": [
      "              precision    recall  f1-score   support\n",
      "\n",
      "           0       0.89      0.92      0.90       723\n",
      "           1       0.91      0.87      0.89       646\n",
      "\n",
      "    accuracy                           0.90      1369\n",
      "   macro avg       0.90      0.90      0.90      1369\n",
      "weighted avg       0.90      0.90      0.90      1369\n",
      "\n"
     ]
    }
   ],
   "source": [
    "print(classification_report(df.churned,  SVM_POL.predict(df.loc[:, df.columns != 'churned'])))"
   ]
  },
  {
   "cell_type": "code",
   "execution_count": 62,
   "metadata": {},
   "outputs": [],
   "source": [
    "y = df.churned\n",
    "X = df.loc[:, df.columns != 'churned']\n",
    "X_pol2 = df_train_pol2\n",
    "auc_log_primal, fpr_log_primal, tpr_log_primal = get_auc_scores(y, log_primal.predict(X),log_primal.predict_proba(X)[:,1])\n",
    "auc_log_pol2, fpr_log_pol2, tpr_log_pol2 = get_auc_scores(y, log_pol2.predict(X_pol2),log_pol2.predict_proba(X_pol2)[:,1])\n",
    "auc_SVM_RBF, fpr_SVM_RBF, tpr_SVM_RBF = get_auc_scores(y, SVM_RBF.predict(X),SVM_RBF.predict_proba(X)[:,1])\n",
    "auc_SVM_POL, fpr_SVM_POL, tpr_SVM_POL = get_auc_scores(y, SVM_POL.predict(X),SVM_POL.predict_proba(X)[:,1])\n",
    "#auc_RF, fpr_RF, tpr_RF = get_auc_scores(y, RF.predict(X),RF.predict_proba(X)[:,1])\n",
    "#auc_XGB, fpr_XGB, tpr_XGB = get_auc_scores(y, XGB.predict(X),XGB.predict_proba(X)[:,1])"
   ]
  },
  {
   "cell_type": "code",
   "execution_count": 63,
   "metadata": {},
   "outputs": [
    {
     "data": {
      "image/png": "[encoded data removed]",
      "text/plain": [
       "<Figure size 864x432 with 1 Axes>"
      ]
     },
     "metadata": {
      "needs_background": "light"
     },
     "output_type": "display_data"
    }
   ],
   "source": [
    "plt.figure(figsize = (12,6), linewidth= 1)\n",
    "plt.plot(fpr_log_primal, tpr_log_primal, label = 'log primal Score: ' + str(round(auc_log_primal, 5)))\n",
    "plt.plot(fpr_log_pol2, tpr_log_pol2, label = 'log pol2 score: ' + str(round(auc_log_pol2, 5)))\n",
    "plt.plot(fpr_SVM_RBF, tpr_SVM_RBF, label = 'SVM RBF Score: ' + str(round(auc_SVM_RBF, 5)))\n",
    "plt.plot(fpr_SVM_POL, tpr_SVM_POL, label = 'SVM POL Score: ' + str(round(auc_SVM_POL, 5)))\n",
    "#plt.plot(fpr_RF, tpr_RF, label = 'RF score: ' + str(round(auc_RF, 5)))\n",
    "#plt.plot(fpr_XGB, tpr_XGB, label = 'XGB score: ' + str(round(auc_XGB, 5)))\n",
    "plt.plot([0,1], [0,1], 'k--', label = 'Random: 0.5')\n",
    "plt.xlabel('False positive rate')\n",
    "plt.ylabel('True positive rate')\n",
    "plt.title('ROC Curve')\n",
    "plt.legend(loc='best')\n",
    "#plt.savefig('roc_results_ratios.png')\n",
    "plt.show()"
   ]
  },
  {
   "cell_type": "markdown",
   "metadata": {},
   "source": [
    "From the above results, our aim is to predict the customers that will possibly churn so they can be put in some sort of scheme to prevent churn hence the recall measures on the 1's is of more importance to me than the overall accuracy score of the model.\n",
    "\n",
    "Given that in the data we only had 47% of churn, a recall greater than this baseline will already be an improvement but we want to get as high as possible while trying to maintain a high precision so that the bank can train its resources effectively towards clients highlighted by the model without wasting too much resources on the false positives.\n",
    "\n",
    "From the review of the fitted models above, the best model that gives a decent balance of the recall and precision is the Support Vector Machine where according to the fit on the training set, with a precision score on 1's of 0.91, out of all customers that the model thinks will churn, 91% do actually churn and with the recall score of 0.92 on the 1's, the model is able to highlight 92% of all those who churned."
   ]
  },
  {
   "cell_type": "markdown",
   "metadata": {
    "_kg_hide-input": true,
    "_uuid": "c6d208200c19b9cb9e92d2d4b64969cb9d6014ad"
   },
   "source": [
    "**Thank You.**"
   ]
  }
 ],
 "metadata": {
  "kernelspec": {
   "display_name": "Python 3",
   "language": "python",
   "name": "python3"
  },
  "language_info": {
   "codemirror_mode": {
    "name": "ipython",
    "version": 3
   },
   "file_extension": ".py",
   "mimetype": "text/x-python",
   "name": "python",
   "nbconvert_exporter": "python",
   "pygments_lexer": "ipython3",
   "version": "3.7.4"
  }
 },
 "nbformat": 4,
 "nbformat_minor": 1
}
